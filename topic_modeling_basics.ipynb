{
 "cells": [
  {
   "cell_type": "markdown",
   "metadata": {},
   "source": [
    "#### Code source: https://www.analyticsvidhya.com/blog/2016/08/beginners-guide-to-topic-modeling-in-python/\n",
    "#### Tutorial source: https://www.datacamp.com/tutorial/what-is-topic-modeling"
   ]
  },
  {
   "cell_type": "markdown",
   "metadata": {},
   "source": [
    "### Imports for Loading and Preprocessing"
   ]
  },
  {
   "cell_type": "code",
   "execution_count": 18,
   "metadata": {},
   "outputs": [
    {
     "name": "stderr",
     "output_type": "stream",
     "text": [
      "[nltk_data] Downloading package stopwords to\n",
      "[nltk_data]     C:\\Users\\syeda\\AppData\\Roaming\\nltk_data...\n",
      "[nltk_data]   Package stopwords is already up-to-date!\n",
      "[nltk_data] Downloading package wordnet to\n",
      "[nltk_data]     C:\\Users\\syeda\\AppData\\Roaming\\nltk_data...\n",
      "[nltk_data]   Package wordnet is already up-to-date!\n",
      "[nltk_data] Downloading package omw-1.4 to\n",
      "[nltk_data]     C:\\Users\\syeda\\AppData\\Roaming\\nltk_data...\n",
      "[nltk_data]   Package omw-1.4 is already up-to-date!\n"
     ]
    }
   ],
   "source": [
    "import string   # contains a public variable with all ASCII punctuation characters\n",
    "import nltk\n",
    "\n",
    "# list of all stopwords such as 'and', 'the', 'is', etc.\n",
    "nltk.download('stopwords')  \n",
    "\n",
    "# WordNet is a lexical database of English words that groups words into sets of synonyms, while also recording semantic relationships between words such as \"is-a\", \"part-of\", and \"opposite-of\" relationships.\n",
    "nltk.download('wordnet')    \n",
    "\n",
    "# Open Multilingual WordNet (omw) links hand created wordnets and automatically created wordnets for different languages.\n",
    "nltk.download('omw-1.4')\n",
    "\n",
    "from nltk.corpus import stopwords\n",
    "from nltk.stem.wordnet import WordNetLemmatizer \n",
    "\n",
    "# Used to tokenize the text; i.e. create a dictionary mapping words to integers. The dictionary can be used to create a term-document matrix.\n",
    "from gensim.corpora import Dictionary\n"
   ]
  },
  {
   "cell_type": "markdown",
   "metadata": {},
   "source": [
    "### Loading Data"
   ]
  },
  {
   "cell_type": "code",
   "execution_count": 9,
   "metadata": {},
   "outputs": [],
   "source": [
    "# Sample docs\n",
    "doc_1 = \"A whopping 96.5 percent of water on Earth is in our oceans, covering 71 percent of the surface of our planet. And at any given time, about 0.001 percent is floating above us in the atmosphere. If all of that water fell as rain at once, the whole planet would get about 1 inch of rain.\"\n",
    "doc_2 = \"One-third of your life is spent sleeping. Sleeping 7-9 hours each night should help your body heal itself, activate the immune system, and give your heart a break. Beyond that--sleep experts are still trying to learn more about what happens once we fall asleep.\"\n",
    "doc_3 = \"A newborn baby is 78 percent water. Adults are 55-60 percent water. Water is involved in just about everything our body does.\"\n",
    "doc_4 = \"While still in high school, a student went 264.4 hours without sleep, for which he won first place in the 10th Annual Great San Diego Science Fair in 1964.\"\n",
    "doc_5 = \"We experience water in all three states: solid ice, liquid water, and gas water vapor.\"\n",
    "\n",
    "# Corpus, which is simply a collection of documents\n",
    "corpus = [doc_1, doc_2, doc_3, doc_4, doc_5]"
   ]
  },
  {
   "cell_type": "markdown",
   "metadata": {},
   "source": [
    "### Data preprocessing"
   ]
  },
  {
   "cell_type": "code",
   "execution_count": 16,
   "metadata": {},
   "outputs": [
    {
     "name": "stdout",
     "output_type": "stream",
     "text": [
      "['whopping', '965', 'percent', 'water', 'earth', 'ocean', 'covering', '71', 'percent', 'surface', 'planet', 'given', 'time', '0001', 'percent', 'floating', 'u', 'atmosphere', 'water', 'fell', 'rain', 'once', 'whole', 'planet', 'would', 'get', '1', 'inch', 'rain']\n"
     ]
    }
   ],
   "source": [
    "stop_words = set(stopwords.words('english'))\n",
    "punctuation = set(string.punctuation)\n",
    "lemmatizer = WordNetLemmatizer()\n",
    "\n",
    "def clean(doc):\n",
    "    lower_case_sentences = doc.lower().split()\n",
    "\n",
    "    stop_free = \" \".join([word for word in lower_case_sentences if word not in stop_words])    # only keep words that are not stopwords\n",
    "    # print(stop_free)\n",
    "    punc_free = \"\".join(ch for ch in stop_free if ch not in punctuation)                       # only keep characters that are not punctuation\n",
    "    # print(punc_free)\n",
    "    lemmatized = \" \".join(lemmatizer.lemmatize(word) for word in punc_free.split())            # lemmatize words; convert words to their base or root form using their context in the sentence\n",
    "    # print(lemmatized)\n",
    "\n",
    "    return lemmatized\n",
    "\n",
    "clean_corpus = [clean(doc).split() for doc in corpus]\n",
    "\n",
    "# Print doc_1 after cleaning\n",
    "print(clean_corpus[0])"
   ]
  },
  {
   "cell_type": "markdown",
   "metadata": {},
   "source": [
    "We now need to convert this corpus (which is currently just a list of lists) into a bag-of-words representation (which is a list of dictionaries, where each dictionary contains {word: count} pairs for all words in that document)"
   ]
  },
  {
   "cell_type": "code",
   "execution_count": 20,
   "metadata": {},
   "outputs": [
    {
     "name": "stdout",
     "output_type": "stream",
     "text": [
      "[(0, 1), (1, 1), (2, 1), (3, 1), (4, 1), (5, 1), (6, 1), (7, 1), (8, 1), (9, 1), (10, 1), (11, 1), (12, 1), (13, 1), (14, 3), (15, 2), (16, 2), (17, 1), (18, 1), (19, 1), (20, 2), (21, 1), (22, 1), (23, 1)]\n"
     ]
    }
   ],
   "source": [
    "dictionary = Dictionary(clean_corpus)       # creates a dictionary mapping all words in the corpus to integers\n",
    "doc_term_matrix = [dictionary.doc2bow(doc) for doc in clean_corpus]\n",
    "\n",
    "print(doc_term_matrix[0])"
   ]
  },
  {
   "cell_type": "markdown",
   "metadata": {},
   "source": [
    "### Modeling"
   ]
  },
  {
   "cell_type": "code",
   "execution_count": 40,
   "metadata": {},
   "outputs": [],
   "source": [
    "from pprint import pprint\n",
    "NUM_TOPICS = 3"
   ]
  },
  {
   "cell_type": "markdown",
   "metadata": {},
   "source": [
    "First trying Latent Semantic Analysis (LSA). Note that it is called LsiModel because LSA also used to be called Latent Semantic Indexing. A simplified explanation is that LSA works by performing Singular Value Decomposition on the Term-Document matrix (dimensions: number of words in vocab x number of documents), in order to reduce the number of rows in the matrix.  \n",
    "\n",
    "By reducing the number of rows (from vocab_size to num_topics) in the matrix, while trying to preserve features in the columns, we get a simpler representation of the text data.   "
   ]
  },
  {
   "cell_type": "code",
   "execution_count": 41,
   "metadata": {},
   "outputs": [
    {
     "name": "stdout",
     "output_type": "stream",
     "text": [
      "[(0, '0.555*\"water\" + 0.489*\"percent\" + 0.239*\"planet\"'),\n",
      " (1, '-0.361*\"sleeping\" + -0.215*\"still\" + -0.215*\"hour\"'),\n",
      " (2, '0.562*\"water\" + -0.231*\"planet\" + -0.231*\"rain\"')]\n"
     ]
    },
    {
     "name": "stderr",
     "output_type": "stream",
     "text": [
      "c:\\Users\\syeda\\miniconda3\\envs\\dir-st\\lib\\site-packages\\gensim\\models\\lsimodel.py:963: DeprecationWarning: `scipy.sparse.sparsetools.csc_matvecs` is deprecated along with the `scipy.sparse.sparsetools` namespace. `scipy.sparse.sparsetools.csc_matvecs` will be removed in SciPy 1.14.0, and the `scipy.sparse.sparsetools` namespace will be removed in SciPy 2.0.0.\n",
      "  sparsetools.csc_matvecs(\n"
     ]
    }
   ],
   "source": [
    "from gensim.models import LsiModel\n",
    "\n",
    "lsa_model = LsiModel(doc_term_matrix, num_topics=NUM_TOPICS, id2word = dictionary)     # the argument id2word is used to map the integer IDs back to words when we print the topics\n",
    "pprint(lsa_model.print_topics(num_topics=NUM_TOPICS, num_words=3))                     # the argument num_words limits the number of words to display for each topic"
   ]
  },
  {
   "cell_type": "markdown",
   "metadata": {},
   "source": [
    "Next we try Latent Dirichlet Allocation (LDA). I don't know how this works yet lol"
   ]
  },
  {
   "cell_type": "code",
   "execution_count": 42,
   "metadata": {},
   "outputs": [
    {
     "name": "stdout",
     "output_type": "stream",
     "text": [
      "[(0, '0.028*\"hour\" + 0.028*\"still\" + 0.028*\"10th\"'),\n",
      " (1, '0.102*\"water\" + 0.065*\"percent\" + 0.028*\"planet\"'),\n",
      " (2, '0.042*\"sleeping\" + 0.024*\"body\" + 0.024*\"still\"')]\n"
     ]
    }
   ],
   "source": [
    "from gensim.models import LdaModel\n",
    "\n",
    "lda_model = LdaModel(doc_term_matrix, num_topics=NUM_TOPICS, id2word = dictionary)\n",
    "pprint(lda_model.print_topics(num_topics=NUM_TOPICS, num_words=3))"
   ]
  },
  {
   "cell_type": "markdown",
   "metadata": {},
   "source": [
    "Observations: \n",
    "- The LSA model finds two similar topics where water is the most prominent word.  \n",
    "- LDA collects all the facts about water under a topic with \"water\" and \"percent\" which is reasonable. \n",
    "- Both models find \"still\" to be an important word, even though it doesn't really add anything. This is likely because the dataset is so small that the frequency causes a lot of noise."
   ]
  },
  {
   "cell_type": "markdown",
   "metadata": {},
   "source": [
    "### Visualization"
   ]
  },
  {
   "cell_type": "markdown",
   "metadata": {},
   "source": [
    "From looking at pyLDAvis docs and https://github.com/bmabey/pyLDAvis/blob/master/pyLDAvis/gensim_models.py, it seems gensim_models does not support gensim's LSA model. Look into creating a PR in the future.  "
   ]
  },
  {
   "cell_type": "code",
   "execution_count": 35,
   "metadata": {},
   "outputs": [],
   "source": [
    "import pyLDAvis.gensim_models as gensim_vis\n",
    "import os\n",
    "import pyLDAvis\n",
    "\n",
    "# For visualizing the topics in a Jupyter notebook\n",
    "pyLDAvis.enable_notebook()\n",
    "\n",
    "LDAvis_filepath = os.path.join('topics_modeling_basics_LDA_'+str(NUM_TOPICS))\n",
    "# LSAvis_filepath = os.path.join('topics_modeling_basics_LSA_'+str(NUM_TOPICS))\n",
    "\n",
    "LDAvis_prepared = gensim_vis.prepare(lda_model, doc_term_matrix, dictionary)\n",
    "# LSAvis_prepared = gensim_vis.prepare(lsa_model, doc_term_matrix, dictionary) \n",
    "\n",
    "# pyLDAvis.save_html(LSAvis_prepared, 'topics_modeling_basics_LSA_'+ str(NUM_TOPICS) +'.html')\n",
    "pyLDAvis.save_html(LDAvis_prepared, 'topics_modeling_basics_LDA_'+ str(NUM_TOPICS) +'.html')"
   ]
  },
  {
   "cell_type": "code",
   "execution_count": 36,
   "metadata": {},
   "outputs": [
    {
     "data": {
      "text/html": [
       "\n",
       "<link rel=\"stylesheet\" type=\"text/css\" href=\"https://cdn.jsdelivr.net/gh/bmabey/pyLDAvis@3.4.0/pyLDAvis/js/ldavis.v1.0.0.css\">\n",
       "\n",
       "\n",
       "<div id=\"ldavis_el2116821911702797285480246566\" style=\"background-color:white;\"></div>\n",
       "<script type=\"text/javascript\">\n",
       "\n",
       "var ldavis_el2116821911702797285480246566_data = {\"mdsDat\": {\"x\": [0.09413638035359406, -0.04561917821263022, -0.006088532869348325, -0.050640195558898454, 0.008211526287282958], \"y\": [0.0019171659561933651, -0.0020491857598635985, -0.022511519238369918, 0.010143413925696858, 0.012500125116343236], \"topics\": [1, 2, 3, 4, 5], \"cluster\": [1, 1, 1, 1, 1], \"Freq\": [48.204975915643836, 26.979045763800315, 22.91793773975454, 0.9510368883127991, 0.9470036924885143]}, \"tinfo\": {\"Term\": [\"sleeping\", \"hour\", \"water\", \"still\", \"body\", \"heal\", \"immune\", \"life\", \"break\", \"beyond\", \"night\", \"heart\", \"learn\", \"expert\", \"help\", \"system\", \"79\", \"spent\", \"trying\", \"onethird\", \"activate\", \"give\", \"fall\", \"thatsleep\", \"itself\", \"asleep\", \"happens\", \"rain\", \"solid\", \"vapor\", \"water\", \"newborn\", \"78\", \"adult\", \"5560\", \"baby\", \"ice\", \"three\", \"involved\", \"everything\", \"experience\", \"doe\", \"state\", \"vapor\", \"solid\", \"gas\", \"liquid\", \"percent\", \"san\", \"1964\", \"place\", \"school\", \"2644\", \"diego\", \"sleep\", \"science\", \"first\", \"went\", \"student\", \"annual\", \"body\", \"planet\", \"rain\", \"sleeping\", \"itself\", \"trying\", \"thatsleep\", \"give\", \"system\", \"expert\", \"heart\", \"immune\", \"happens\", \"asleep\", \"learn\", \"spent\", \"onethird\", \"help\", \"night\", \"break\", \"fall\", \"heal\", \"activate\", \"79\", \"beyond\", \"life\", \"hour\", \"still\", \"body\", \"10th\", \"great\", \"without\", \"fair\", \"planet\", \"percent\", \"rain\", \"earth\", \"rain\", \"0001\", \"get\", \"965\", \"given\", \"u\", \"whopping\", \"1\", \"ocean\", \"planet\", \"life\", \"inch\", \"floating\", \"whole\", \"fell\", \"beyond\", \"71\", \"79\", \"time\", \"surface\", \"once\", \"covering\", \"atmosphere\", \"would\", \"activate\", \"fall\", \"heal\", \"break\", \"night\", \"asleep\", \"sleeping\", \"percent\", \"water\", \"body\", \"life\", \"heal\", \"beyond\", \"immune\", \"break\", \"sleeping\", \"night\", \"79\", \"learn\", \"heart\", \"help\", \"expert\", \"system\", \"spent\", \"activate\", \"onethird\", \"fall\", \"give\", \"trying\", \"thatsleep\", \"itself\", \"asleep\", \"happens\", \"hour\", \"still\", \"body\", \"liquid\", \"gas\", \"vapor\", \"everything\", \"water\", \"percent\", \"life\", \"heal\", \"beyond\", \"immune\", \"break\", \"night\", \"79\", \"learn\", \"heart\", \"expert\", \"help\", \"system\", \"activate\", \"spent\", \"onethird\", \"fall\", \"give\", \"trying\", \"thatsleep\", \"itself\", \"asleep\", \"happens\", \"solid\", \"vapor\", \"gas\", \"liquid\", \"doe\", \"everything\", \"experience\", \"newborn\", \"5560\", \"state\", \"ice\", \"adult\", \"water\", \"percent\", \"hour\", \"body\", \"sleeping\", \"still\", \"planet\", \"three\", \"annual\", \"great\", \"baby\", \"involved\", \"10th\", \"first\", \"high\", \"without\", \"san\", \"rain\"], \"Freq\": [1.0, 1.0, 5.0, 1.0, 1.0, 0.0, 0.0, 0.0, 0.0, 0.0, 0.0, 0.0, 0.0, 0.0, 0.0, 0.0, 0.0, 0.0, 0.0, 0.0, 0.0, 0.0, 0.0, 0.0, 0.0, 1.0, 1.0, 1.0, 1.0, 1.0, 4.875150242544876, 0.7965347989317851, 0.7966279996685158, 0.7965588623204594, 0.7964829908151246, 0.7965201633633004, 0.7964648534848553, 0.7964635066533996, 0.7965136087835496, 0.7962424467171463, 0.7962650734856012, 0.7961966544476543, 0.7962100329734471, 0.7960433850280018, 0.7960269536842429, 0.7959110363902937, 0.7958611138376711, 2.5523783162415774, 0.7293517931062059, 0.7282438446564098, 0.7254160373321358, 0.7232745304232772, 0.7176219236983135, 0.7167595924116453, 0.7138498528404863, 0.7130820691220044, 0.7085616089186567, 0.7055834503095508, 0.6895947651557608, 0.6881833755790078, 0.7966106704371199, 0.8150477155997465, 0.7503492546547789, 0.8710018309187464, 0.5895601143828366, 0.580517498631934, 0.569406745842684, 0.5619423565970989, 0.5276135431180023, 0.5241601989975981, 0.5197331646025002, 0.5082317999993983, 0.5500838482707183, 0.5489177416014229, 0.5170066710257153, 0.5228965524427133, 0.5170623506718941, 0.5094924314109882, 0.49494245542243165, 0.4880423502444836, 0.5031045990788405, 0.47730738481455237, 0.49235139203197525, 0.4727754234327925, 0.4463297020981635, 0.4321946600793709, 0.6858664545979282, 0.6645290895382638, 0.4791751655809549, 0.3093207867405372, 0.28353794465928794, 0.2795572519766089, 0.27827888147196744, 0.3466806735215899, 0.4698588250712654, 0.33239929654821904, 0.44988487634951846, 0.7240665180445169, 0.44819827405592577, 0.4464033723439872, 0.4418766530218622, 0.4379280143947469, 0.4306555184912888, 0.4257703481577921, 0.41375193012842265, 0.41026897473139595, 0.6404195391913649, 0.31831457246261513, 0.38744349562748576, 0.3865116595994717, 0.3859082222412782, 0.3844209301503882, 0.3146757632317766, 0.37826357248321263, 0.30866354471413826, 0.36758367891645755, 0.3662277804438839, 0.3656980225480731, 0.36546200067813445, 0.36500216570201244, 0.3630536726194754, 0.30569000638799465, 0.3037977974138884, 0.27854360673840617, 0.2784313586814332, 0.2797158614988301, 0.2967340030698678, 0.4035187236383609, 0.7944335635309103, 0.601345774984749, 0.3434030056917288, 0.021569135059256676, 0.021326443656855685, 0.021025824256688863, 0.02086226503948703, 0.020763836512290284, 0.03222436324559656, 0.020323487362703833, 0.019941434671283065, 0.01975905563058151, 0.019734278440136244, 0.01960037319934492, 0.019593168735661436, 0.019329473319025115, 0.019092390309056365, 0.0190584547519419, 0.018908882858380292, 0.01859109107784767, 0.018022244906704142, 0.01794804796512982, 0.01752185265494122, 0.017096931013154, 0.016538706421613664, 0.016521381697044084, 0.01900371181090164, 0.018268211709486438, 0.017783911257109, 0.007741945548814012, 0.007738586890553897, 0.007738083800392571, 0.007737052819850701, 0.007810729842543513, 0.007756605135539529, 0.011404984276788961, 0.011401667203006245, 0.011397618979485193, 0.011403258269505586, 0.011398582968223431, 0.011401347049381377, 0.011400375122949962, 0.011402913420835274, 0.011403895048891687, 0.011405956203220378, 0.011401601937529, 0.011401053354733771, 0.011401848887983443, 0.011399200344359539, 0.011401945904233402, 0.011402473319846819, 0.011407073654026732, 0.01140268851952855, 0.011406447458231538, 0.011402206966142385, 0.011402499778824082, 0.01140032044106362, 0.011433731073617968, 0.011429153670551681, 0.011428823815301819, 0.011428090901631667, 0.011427298014279722, 0.011422337838009049, 0.011419027819953602, 0.01141841926347658, 0.011416860829715863, 0.011416825551079514, 0.011416525682670547, 0.011415581097182301, 0.011536314292393674, 0.01145882564961894, 0.011420711492873359, 0.011420640053634752, 0.011418255217817558, 0.01141721626197708, 0.011415953286795785, 0.011415306805784687, 0.011414628574000878, 0.011411870666604292, 0.011411847735490666, 0.01141100104821829, 0.011410433944138978, 0.011409509643866634, 0.011408747625321495, 0.011408454812639798, 0.011408354268526204, 0.011407990016605899], \"Total\": [1.0, 1.0, 5.0, 1.0, 1.0, 0.0, 0.0, 0.0, 0.0, 0.0, 0.0, 0.0, 0.0, 0.0, 0.0, 0.0, 0.0, 0.0, 0.0, 0.0, 0.0, 0.0, 0.0, 0.0, 0.0, 1.0, 1.0, 1.0, 1.0, 1.0, 5.800849756252589, 1.1045001311131486, 1.104660062049356, 1.1045826964789531, 1.1045520789514751, 1.1046081205664149, 1.1045469837547022, 1.1045456841838346, 1.1046493348552846, 1.104399289750448, 1.1044653209822173, 1.104400213161415, 1.1045079100505235, 1.1043194769663611, 1.104340779109942, 1.1043280159842672, 1.104277352659115, 3.835886135628912, 1.1109774605645824, 1.1111779947636742, 1.1113175950609686, 1.111558271754974, 1.1119940777128998, 1.1120854325134077, 1.1123545708316886, 1.112547914064023, 1.1128266800416409, 1.1132298877482212, 1.1146079869827756, 1.1146930932058476, 1.6483933930205472, 1.8212951736827114, 1.8259602112848485, 1.4514412703397863, 0.9975292969011422, 0.9824576613012077, 0.9897140576499116, 0.9808234352524399, 0.9574388246284288, 0.9527052037240733, 0.9501924548716068, 0.9302410672989136, 1.0070355228918708, 1.006687789324262, 0.9497252997971048, 0.9615509493044117, 0.9646449319061257, 0.9524074340455271, 0.9395052967936437, 0.9317139182174548, 0.9699958162901293, 0.9216475766396098, 0.9616390667156409, 0.9458781192554858, 0.9264916363120261, 0.91664946016176, 1.6392754392085245, 1.6513379343233656, 1.6483933930205472, 1.1184620798137135, 1.1162974217795734, 1.116017844683182, 1.1159742531416232, 1.8212951736827114, 3.835886135628912, 1.8259602112848485, 1.1331280261176155, 1.8259602112848485, 1.1369585682704666, 1.1334846872644684, 1.1341097604321582, 1.1357694556469915, 1.1335611601362856, 1.1313550069410094, 1.1338587109973781, 1.1318524985989036, 1.8212951736827114, 0.91664946016176, 1.1298407403444575, 1.128238861773675, 1.1294814289069481, 1.1299801283188613, 0.9264916363120261, 1.128686035328345, 0.9458781192554858, 1.1295588027548018, 1.1290559936794626, 1.129522097347551, 1.129062656130104, 1.1278971005838554, 1.130768713467688, 0.9616390667156409, 0.9699958162901293, 0.9216475766396098, 0.9317139182174548, 0.9395052967936437, 1.006687789324262, 1.4514412703397863, 3.835886135628912, 5.800849756252589, 1.6483933930205472, 0.91664946016176, 0.9216475766396098, 0.9264916363120261, 0.9302410672989136, 0.9317139182174548, 1.4514412703397863, 0.9395052967936437, 0.9458781192554858, 0.9497252997971048, 0.9501924548716068, 0.9524074340455271, 0.9527052037240733, 0.9574388246284288, 0.9615509493044117, 0.9616390667156409, 0.9646449319061257, 0.9699958162901293, 0.9808234352524399, 0.9824576613012077, 0.9897140576499116, 0.9975292969011422, 1.006687789324262, 1.0070355228918708, 1.6392754392085245, 1.6513379343233656, 1.6483933930205472, 1.104277352659115, 1.1043280159842672, 1.1043194769663611, 1.104399289750448, 5.800849756252589, 3.835886135628912, 0.91664946016176, 0.9216475766396098, 0.9264916363120261, 0.9302410672989136, 0.9317139182174548, 0.9395052967936437, 0.9458781192554858, 0.9497252997971048, 0.9501924548716068, 0.9527052037240733, 0.9524074340455271, 0.9574388246284288, 0.9616390667156409, 0.9615509493044117, 0.9646449319061257, 0.9699958162901293, 0.9808234352524399, 0.9824576613012077, 0.9897140576499116, 0.9975292969011422, 1.006687789324262, 1.0070355228918708, 1.104340779109942, 1.1043194769663611, 1.1043280159842672, 1.104277352659115, 1.104400213161415, 1.104399289750448, 1.1044653209822173, 1.1045001311131486, 1.1045520789514751, 1.1045079100505235, 1.1045469837547022, 1.1045826964789531, 5.800849756252589, 3.835886135628912, 1.6392754392085245, 1.6483933930205472, 1.4514412703397863, 1.6513379343233656, 1.8212951736827114, 1.1045456841838346, 1.1146930932058476, 1.1162974217795734, 1.1046081205664149, 1.1046493348552846, 1.1184620798137135, 1.1128266800416409, 1.1149004333377601, 1.116017844683182, 1.1109774605645824, 1.8259602112848485], \"Category\": [\"Default\", \"Default\", \"Default\", \"Default\", \"Default\", \"Default\", \"Default\", \"Default\", \"Default\", \"Default\", \"Default\", \"Default\", \"Default\", \"Default\", \"Default\", \"Default\", \"Default\", \"Default\", \"Default\", \"Default\", \"Default\", \"Default\", \"Default\", \"Default\", \"Default\", \"Default\", \"Default\", \"Default\", \"Default\", \"Default\", \"Topic1\", \"Topic1\", \"Topic1\", \"Topic1\", \"Topic1\", \"Topic1\", \"Topic1\", \"Topic1\", \"Topic1\", \"Topic1\", \"Topic1\", \"Topic1\", \"Topic1\", \"Topic1\", \"Topic1\", \"Topic1\", \"Topic1\", \"Topic1\", \"Topic1\", \"Topic1\", \"Topic1\", \"Topic1\", \"Topic1\", \"Topic1\", \"Topic1\", \"Topic1\", \"Topic1\", \"Topic1\", \"Topic1\", \"Topic1\", \"Topic1\", \"Topic1\", \"Topic1\", \"Topic2\", \"Topic2\", \"Topic2\", \"Topic2\", \"Topic2\", \"Topic2\", \"Topic2\", \"Topic2\", \"Topic2\", \"Topic2\", \"Topic2\", \"Topic2\", \"Topic2\", \"Topic2\", \"Topic2\", \"Topic2\", \"Topic2\", \"Topic2\", \"Topic2\", \"Topic2\", \"Topic2\", \"Topic2\", \"Topic2\", \"Topic2\", \"Topic2\", \"Topic2\", \"Topic2\", \"Topic2\", \"Topic2\", \"Topic2\", \"Topic2\", \"Topic2\", \"Topic2\", \"Topic3\", \"Topic3\", \"Topic3\", \"Topic3\", \"Topic3\", \"Topic3\", \"Topic3\", \"Topic3\", \"Topic3\", \"Topic3\", \"Topic3\", \"Topic3\", \"Topic3\", \"Topic3\", \"Topic3\", \"Topic3\", \"Topic3\", \"Topic3\", \"Topic3\", \"Topic3\", \"Topic3\", \"Topic3\", \"Topic3\", \"Topic3\", \"Topic3\", \"Topic3\", \"Topic3\", \"Topic3\", \"Topic3\", \"Topic3\", \"Topic3\", \"Topic3\", \"Topic3\", \"Topic3\", \"Topic3\", \"Topic4\", \"Topic4\", \"Topic4\", \"Topic4\", \"Topic4\", \"Topic4\", \"Topic4\", \"Topic4\", \"Topic4\", \"Topic4\", \"Topic4\", \"Topic4\", \"Topic4\", \"Topic4\", \"Topic4\", \"Topic4\", \"Topic4\", \"Topic4\", \"Topic4\", \"Topic4\", \"Topic4\", \"Topic4\", \"Topic4\", \"Topic4\", \"Topic4\", \"Topic4\", \"Topic4\", \"Topic4\", \"Topic4\", \"Topic4\", \"Topic4\", \"Topic4\", \"Topic5\", \"Topic5\", \"Topic5\", \"Topic5\", \"Topic5\", \"Topic5\", \"Topic5\", \"Topic5\", \"Topic5\", \"Topic5\", \"Topic5\", \"Topic5\", \"Topic5\", \"Topic5\", \"Topic5\", \"Topic5\", \"Topic5\", \"Topic5\", \"Topic5\", \"Topic5\", \"Topic5\", \"Topic5\", \"Topic5\", \"Topic5\", \"Topic5\", \"Topic5\", \"Topic5\", \"Topic5\", \"Topic5\", \"Topic5\", \"Topic5\", \"Topic5\", \"Topic5\", \"Topic5\", \"Topic5\", \"Topic5\", \"Topic5\", \"Topic5\", \"Topic5\", \"Topic5\", \"Topic5\", \"Topic5\", \"Topic5\", \"Topic5\", \"Topic5\", \"Topic5\", \"Topic5\", \"Topic5\", \"Topic5\", \"Topic5\", \"Topic5\", \"Topic5\"], \"logprob\": [30.0, 29.0, 28.0, 27.0, 26.0, 25.0, 24.0, 23.0, 22.0, 21.0, 20.0, 19.0, 18.0, 17.0, 16.0, 15.0, 14.0, 13.0, 12.0, 11.0, 10.0, 9.0, 8.0, 7.0, 6.0, 5.0, 4.0, 3.0, 2.0, 1.0, -2.2913, -4.1029, -4.1028, -4.1029, -4.103, -4.103, -4.103, -4.103, -4.103, -4.1033, -4.1033, -4.1034, -4.1034, -4.1036, -4.1036, -4.1037, -4.1038, -2.9384, -4.1911, -4.1926, -4.1965, -4.1994, -4.2073, -4.2085, -4.2125, -4.2136, -4.22, -4.2242, -4.2471, -4.2492, -4.1029, -4.08, -4.1627, -3.4332, -3.8234, -3.8389, -3.8582, -3.8714, -3.9345, -3.941, -3.9495, -3.9719, -3.8927, -3.8949, -3.9548, -3.9434, -3.9547, -3.9694, -3.9984, -4.0124, -3.982, -4.0347, -4.0036, -4.0442, -4.1018, -4.1339, -3.6721, -3.7037, -4.0307, -4.4684, -4.5555, -4.5696, -4.5742, -4.3544, -4.0504, -4.3965, -3.9307, -3.4548, -3.9344, -3.9385, -3.9486, -3.9576, -3.9744, -3.9858, -4.0144, -4.0229, -3.5776, -4.2766, -4.0801, -4.0825, -4.0841, -4.0879, -4.2881, -4.1041, -4.3074, -4.1327, -4.1364, -4.1379, -4.1385, -4.1398, -4.1451, -4.3171, -4.3233, -4.4101, -4.4105, -4.4059, -4.3468, -4.0395, -3.362, -3.6405, -4.2008, -3.7863, -3.7976, -3.8118, -3.8196, -3.8243, -3.3848, -3.8458, -3.8648, -3.8739, -3.8752, -3.882, -3.8824, -3.8959, -3.9083, -3.91, -3.9179, -3.9349, -3.9659, -3.9701, -3.9941, -4.0187, -4.0518, -4.0529, -3.9129, -3.9524, -3.9793, -4.8109, -4.8113, -4.8114, -4.8115, -4.8021, -4.809, -4.4193, -4.4195, -4.4199, -4.4194, -4.4198, -4.4196, -4.4197, -4.4194, -4.4193, -4.4192, -4.4195, -4.4196, -4.4195, -4.4198, -4.4195, -4.4195, -4.4191, -4.4195, -4.4191, -4.4195, -4.4195, -4.4197, -4.4167, -4.4171, -4.4172, -4.4172, -4.4173, -4.4177, -4.418, -4.4181, -4.4182, -4.4182, -4.4182, -4.4183, -4.4078, -4.4145, -4.4179, -4.4179, -4.4181, -4.4182, -4.4183, -4.4183, -4.4184, -4.4186, -4.4187, -4.4187, -4.4188, -4.4189, -4.4189, -4.4189, -4.419, -4.419], \"loglift\": [30.0, 29.0, 28.0, 27.0, 26.0, 25.0, 24.0, 23.0, 22.0, 21.0, 20.0, 19.0, 18.0, 17.0, 16.0, 15.0, 14.0, 13.0, 12.0, 11.0, 10.0, 9.0, 8.0, 7.0, 6.0, 5.0, 4.0, 3.0, 2.0, 1.0, 0.5559, 0.4028, 0.4028, 0.4028, 0.4027, 0.4027, 0.4027, 0.4027, 0.4027, 0.4026, 0.4025, 0.4025, 0.4024, 0.4024, 0.4023, 0.4022, 0.4022, 0.3223, 0.3089, 0.3072, 0.3032, 0.3, 0.2917, 0.2905, 0.2861, 0.2849, 0.2783, 0.2737, 0.2496, 0.2474, 0.0025, -0.0743, -0.1596, 0.7994, 0.7842, 0.784, 0.7573, 0.7531, 0.7142, 0.7126, 0.7068, 0.7056, 0.7054, 0.7036, 0.702, 0.7009, 0.6865, 0.6845, 0.6692, 0.6635, 0.6536, 0.6521, 0.6407, 0.6166, 0.5798, 0.5583, 0.4388, 0.3998, 0.0746, 0.0248, -0.0603, -0.0742, -0.0787, -0.3488, -0.7896, -0.3934, 0.5495, 0.5483, 0.5424, 0.5414, 0.5307, 0.5202, 0.5054, 0.496, 0.4651, 0.4585, 0.4281, 0.4156, 0.403, 0.402, 0.3993, 0.395, 0.3934, 0.38, 0.3534, 0.3506, 0.3474, 0.3455, 0.3453, 0.345, 0.3371, 0.3272, 0.3123, 0.2767, 0.2654, 0.2617, 0.2517, 0.1932, -0.1013, -0.7933, -0.0954, 0.9059, 0.8892, 0.8697, 0.8579, 0.8516, 0.8478, 0.8218, 0.7961, 0.7828, 0.7811, 0.7719, 0.7712, 0.7527, 0.7361, 0.7342, 0.7232, 0.7008, 0.6586, 0.6528, 0.6214, 0.589, 0.5467, 0.5453, 0.198, 0.1512, 0.1261, -0.3049, -0.3054, -0.3055, -0.3057, -1.9549, -1.5482, 0.2729, 0.2672, 0.2616, 0.2581, 0.2561, 0.248, 0.2412, 0.2373, 0.2369, 0.2345, 0.2344, 0.2291, 0.2248, 0.2246, 0.2216, 0.2162, 0.2055, 0.2034, 0.1964, 0.1881, 0.179, 0.1785, 0.0892, 0.0888, 0.0888, 0.0888, 0.0886, 0.0881, 0.0878, 0.0877, 0.0875, 0.0876, 0.0875, 0.0874, -1.5606, -1.1538, -0.307, -0.3125, -0.1855, -0.3146, -0.4127, 0.0874, 0.0782, 0.0765, 0.087, 0.0869, 0.0744, 0.0794, 0.0775, 0.0765, 0.081, -0.4159]}, \"token.table\": {\"Topic\": [1, 1, 1, 1, 1, 1, 1, 2, 1, 1, 1, 1, 1, 1, 1, 2, 1, 2, 1, 1, 1, 2, 1, 2, 2, 2, 1, 1, 2, 1, 2, 1, 2, 2, 1, 1, 2, 1, 3, 1, 1, 3, 1, 3, 1, 1, 1, 1, 2, 1, 2, 1, 1, 2, 1, 2, 2, 1, 2, 1, 1, 3, 1, 1], \"Freq\": [0.8940848492302537, 0.899945827502353, 0.8992853649515433, 0.9053443645222017, 0.9052558649986933, 0.905319269609846, 0.8971079179507686, 0.9933566400673726, 0.8866057014264426, 0.9052984324316079, 0.6066513031622756, 0.8992114910991279, 0.9054688581935684, 0.905469615274709, 0.9054154811403995, 1.049642634564243, 0.8960780207830606, 1.030932281568621, 0.8986125314344378, 0.8863371346985213, 0.9055280546411913, 1.0195514952623705, 0.8958186057671127, 0.9930136298750741, 1.0524183757438101, 1.0499708047766014, 0.8969410811028442, 0.6100256101456752, 0.6100256101456752, 0.9053485408114428, 1.0749901666926416, 0.9052646558928185, 1.0024768225921115, 1.0529360439420068, 0.9055695995140952, 0.9053869454883358, 1.0366508618088246, 0.7820878654700045, 0.26069595515666816, 0.8998327790762086, 0.5490598198742114, 0.5490598198742114, 0.5476570594582363, 0.5476570594582363, 0.9001082699659944, 0.8996379455853079, 0.898837692614157, 0.8989939235403303, 0.6889703499790227, 0.905517589240853, 1.0399864934077623, 0.9053805689397525, 0.6055695682966001, 0.6055695682966001, 0.8971764168916307, 1.0444531538483295, 1.0103928425291973, 0.9053496060137296, 1.0178555671046001, 0.9055350565282669, 0.8619426825545045, 0.17238853651090089, 0.8982870573325549, 0.89604302006827], \"Term\": [\"10th\", \"1964\", \"2644\", \"5560\", \"78\", \"adult\", \"annual\", \"asleep\", \"atmosphere\", \"baby\", \"body\", \"diego\", \"doe\", \"everything\", \"experience\", \"expert\", \"fair\", \"fall\", \"first\", \"floating\", \"gas\", \"give\", \"great\", \"happens\", \"heart\", \"help\", \"high\", \"hour\", \"hour\", \"ice\", \"immune\", \"involved\", \"itself\", \"learn\", \"liquid\", \"newborn\", \"onethird\", \"percent\", \"percent\", \"place\", \"planet\", \"planet\", \"rain\", \"rain\", \"san\", \"school\", \"science\", \"sleep\", \"sleeping\", \"solid\", \"spent\", \"state\", \"still\", \"still\", \"student\", \"system\", \"thatsleep\", \"three\", \"trying\", \"vapor\", \"water\", \"water\", \"went\", \"without\"]}, \"R\": 30, \"lambda.step\": 0.01, \"plot.opts\": {\"xlab\": \"PC1\", \"ylab\": \"PC2\"}, \"topic.order\": [2, 5, 3, 1, 4]};\n",
       "\n",
       "function LDAvis_load_lib(url, callback){\n",
       "  var s = document.createElement('script');\n",
       "  s.src = url;\n",
       "  s.async = true;\n",
       "  s.onreadystatechange = s.onload = callback;\n",
       "  s.onerror = function(){console.warn(\"failed to load library \" + url);};\n",
       "  document.getElementsByTagName(\"head\")[0].appendChild(s);\n",
       "}\n",
       "\n",
       "if(typeof(LDAvis) !== \"undefined\"){\n",
       "   // already loaded: just create the visualization\n",
       "   !function(LDAvis){\n",
       "       new LDAvis(\"#\" + \"ldavis_el2116821911702797285480246566\", ldavis_el2116821911702797285480246566_data);\n",
       "   }(LDAvis);\n",
       "}else if(typeof define === \"function\" && define.amd){\n",
       "   // require.js is available: use it to load d3/LDAvis\n",
       "   require.config({paths: {d3: \"https://d3js.org/d3.v5\"}});\n",
       "   require([\"d3\"], function(d3){\n",
       "      window.d3 = d3;\n",
       "      LDAvis_load_lib(\"https://cdn.jsdelivr.net/gh/bmabey/pyLDAvis@3.4.0/pyLDAvis/js/ldavis.v3.0.0.js\", function(){\n",
       "        new LDAvis(\"#\" + \"ldavis_el2116821911702797285480246566\", ldavis_el2116821911702797285480246566_data);\n",
       "      });\n",
       "    });\n",
       "}else{\n",
       "    // require.js not available: dynamically load d3 & LDAvis\n",
       "    LDAvis_load_lib(\"https://d3js.org/d3.v5.js\", function(){\n",
       "         LDAvis_load_lib(\"https://cdn.jsdelivr.net/gh/bmabey/pyLDAvis@3.4.0/pyLDAvis/js/ldavis.v3.0.0.js\", function(){\n",
       "                 new LDAvis(\"#\" + \"ldavis_el2116821911702797285480246566\", ldavis_el2116821911702797285480246566_data);\n",
       "            })\n",
       "         });\n",
       "}\n",
       "</script>"
      ],
      "text/plain": [
       "PreparedData(topic_coordinates=              x         y  topics  cluster       Freq\n",
       "topic                                                \n",
       "1      0.094136  0.001917       1        1  48.204976\n",
       "4     -0.045619 -0.002049       2        1  26.979046\n",
       "2     -0.006089 -0.022512       3        1  22.917938\n",
       "0     -0.050640  0.010143       4        1   0.951037\n",
       "3      0.008212  0.012500       5        1   0.947004, topic_info=        Term      Freq     Total Category  logprob  loglift\n",
       "44  sleeping  1.000000  1.000000  Default  30.0000  30.0000\n",
       "37      hour  1.000000  1.000000  Default  29.0000  29.0000\n",
       "20     water  5.000000  5.000000  Default  28.0000  28.0000\n",
       "46     still  1.000000  1.000000  Default  27.0000  27.0000\n",
       "28      body  1.000000  1.000000  Default  26.0000  26.0000\n",
       "..       ...       ...       ...      ...      ...      ...\n",
       "64     first  0.011410  1.112827   Topic5  -4.4189   0.0794\n",
       "66      high  0.011409  1.114900   Topic5  -4.4189   0.0775\n",
       "74   without  0.011408  1.116018   Topic5  -4.4189   0.0765\n",
       "68       san  0.011408  1.110977   Topic5  -4.4190   0.0810\n",
       "16      rain  0.011408  1.825960   Topic5  -4.4190  -0.4159\n",
       "\n",
       "[215 rows x 6 columns], token_table=      Topic      Freq     Term\n",
       "term                          \n",
       "58        1  0.894085     10th\n",
       "59        1  0.899946     1964\n",
       "60        1  0.899285     2644\n",
       "50        1  0.905344     5560\n",
       "51        1  0.905256       78\n",
       "...     ...       ...      ...\n",
       "82        1  0.905535    vapor\n",
       "20        1  0.861943    water\n",
       "20        3  0.172389    water\n",
       "73        1  0.898287     went\n",
       "74        1  0.896043  without\n",
       "\n",
       "[64 rows x 3 columns], R=30, lambda_step=0.01, plot_opts={'xlab': 'PC1', 'ylab': 'PC2'}, topic_order=[2, 5, 3, 1, 4])"
      ]
     },
     "execution_count": 36,
     "metadata": {},
     "output_type": "execute_result"
    }
   ],
   "source": [
    "LDAvis_prepared"
   ]
  },
  {
   "cell_type": "code",
   "execution_count": null,
   "metadata": {},
   "outputs": [],
   "source": []
  }
 ],
 "metadata": {
  "kernelspec": {
   "display_name": "dir-st",
   "language": "python",
   "name": "python3"
  },
  "language_info": {
   "codemirror_mode": {
    "name": "ipython",
    "version": 3
   },
   "file_extension": ".py",
   "mimetype": "text/x-python",
   "name": "python",
   "nbconvert_exporter": "python",
   "pygments_lexer": "ipython3",
   "version": "3.10.14"
  }
 },
 "nbformat": 4,
 "nbformat_minor": 2
}
