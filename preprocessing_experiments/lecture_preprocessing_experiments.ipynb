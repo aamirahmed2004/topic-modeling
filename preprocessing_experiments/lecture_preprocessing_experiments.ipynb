{
 "cells": [
  {
   "cell_type": "code",
   "execution_count": 1,
   "metadata": {},
   "outputs": [
    {
     "name": "stderr",
     "output_type": "stream",
     "text": [
      "[nltk_data] Downloading package stopwords to\n",
      "[nltk_data]     C:\\Users\\syeda\\AppData\\Roaming\\nltk_data...\n",
      "[nltk_data]   Package stopwords is already up-to-date!\n",
      "[nltk_data] Downloading package wordnet to\n",
      "[nltk_data]     C:\\Users\\syeda\\AppData\\Roaming\\nltk_data...\n",
      "[nltk_data]   Package wordnet is already up-to-date!\n",
      "[nltk_data] Downloading package omw-1.4 to\n",
      "[nltk_data]     C:\\Users\\syeda\\AppData\\Roaming\\nltk_data...\n",
      "[nltk_data]   Package omw-1.4 is already up-to-date!\n"
     ]
    }
   ],
   "source": [
    "import string   # contains a public variable with all ASCII punctuation characters\n",
    "import nltk\n",
    "\n",
    "# list of all stopwords such as 'and', 'the', 'is', etc.\n",
    "nltk.download('stopwords')  \n",
    "\n",
    "# WordNet is a lexical database of English words that groups words into sets of synonyms, while also recording semantic relationships between words such as \"is-a\", \"part-of\", and \"opposite-of\" relationships.\n",
    "nltk.download('wordnet')    \n",
    "\n",
    "# Open Multilingual WordNet (omw) links hand created wordnets and automatically created wordnets for different languages.\n",
    "nltk.download('omw-1.4')\n",
    "\n",
    "from nltk.corpus import stopwords\n",
    "from nltk.stem.wordnet import WordNetLemmatizer \n",
    "from nltk import ngrams\n",
    "\n",
    "# Used to tokenize the text; i.e. create a dictionary mapping words to integers. The dictionary can be used to create a term-document matrix.\n",
    "from gensim.corpora import Dictionary\n",
    "\n",
    "from gensim.test.utils import datapath\n",
    "\n",
    "from gensim.models.word2vec import Text8Corpus\n",
    "from gensim.models.phrases import Phrases, Phraser\n",
    "from gensim.models.phrases import ENGLISH_CONNECTOR_WORDS\n",
    "\n",
    "import spacy\n",
    "from textacy import extract\n",
    "\n",
    "import re\n",
    "import os\n",
    "\n",
    "def read_txt_to_string(file_path):\n",
    "    with open(file_path, 'r') as file:\n",
    "        return file.read()\n",
    "    \n",
    "def combine_text_files_to_list(input_directory):\n",
    "\n",
    "    txt_files = [os.path.join(input_directory, file) for file in os.listdir(input_directory) if file.endswith(\".txt\")]\n",
    "    corpus = []\n",
    "\n",
    "    for txt_file in txt_files:\n",
    "        \n",
    "        try:\n",
    "            # Read the entire file as a string and add the string to the corpus\n",
    "            with open(txt_file, 'r', encoding='utf-8') as file:\n",
    "                file_content = file.read()  \n",
    "                corpus.append(file_content)  \n",
    "                \n",
    "        except Exception as e:\n",
    "            print(f\"An error occurred while reading {txt_file}: {e}\")\n",
    "    \n",
    "    return corpus"
   ]
  },
  {
   "cell_type": "code",
   "execution_count": 2,
   "metadata": {},
   "outputs": [
    {
     "name": "stdout",
     "output_type": "stream",
     "text": [
      "Corpus combined successfully as a list of strings.\n"
     ]
    }
   ],
   "source": [
    "data = combine_text_files_to_list(\"../../Dataset/Parsed_Lectures\")\n",
    "print(\"Corpus combined successfully as a list of strings.\")"
   ]
  },
  {
   "cell_type": "code",
   "execution_count": 29,
   "metadata": {},
   "outputs": [
    {
     "name": "stdout",
     "output_type": "stream",
     "text": [
      "162\n",
      " Learning Objectives•  Explain why it is important to understand and use correct terminology.            •          Define: computer, software, memory, data, memory size/data size, cloud            •          Explain \"Big Data\" and describe data growth in the coming years.            •          Compare and contrast: digital versus analog            •          Briefly explain how integers, doubles, and strings are encoded.            •          Explain why ASCII table is required for character en\n"
     ]
    }
   ],
   "source": [
    "print(len(data))\n",
    "print(data[0][:500])"
   ]
  },
  {
   "cell_type": "markdown",
   "metadata": {},
   "source": [
    "## Initial Experiments"
   ]
  },
  {
   "cell_type": "markdown",
   "metadata": {},
   "source": [
    "### Experimenting with textacy's extract() function"
   ]
  },
  {
   "cell_type": "code",
   "execution_count": null,
   "metadata": {},
   "outputs": [],
   "source": [
    "nlp = spacy.load(\"en_core_web_sm\")\n",
    "# Add custom stop words, mostly including header and footer information like names of instructors, name of university, etc.\n",
    "\n",
    "nlp.Defaults.stop_words |= {\"ubc\", \"mds\", \"lecture\", \"lab\", \"assignments\", \"example\", \"page\"}\n",
    "\n",
    "doc = nlp(data[0].lower())"
   ]
  },
  {
   "cell_type": "code",
   "execution_count": 157,
   "metadata": {},
   "outputs": [],
   "source": [
    "ngrams = [\n",
    "    ngram.text.replace(\" \", \"_\") \n",
    "        for ngram in extract.ngrams(doc, n = 2, min_freq = 4, filter_punct = True, filter_nums = True, exclude_pos=[\"PROPN\", \"ORG\", \"DATE\", \"X\"]) \n",
    "        if not ngram.text.__contains__(\"=\") \n",
    "            and not ngram.text.__contains__(\"@\") \n",
    "            and not ngram.text.__contains__(\"$\")\n",
    "]\n"
   ]
  },
  {
   "cell_type": "code",
   "execution_count": 158,
   "metadata": {},
   "outputs": [
    {
     "name": "stdout",
     "output_type": "stream",
     "text": [
      "{'format_painter', 'visual_basic', 'cell_value', 'data_analysis', 'pivot_table', 'ubco_master', 'returns_true', 'quick_access', 'goal_seek', 'access_toolbar', 'operating_system', 'relative_path', 'records_found', 'representing_data', 'text_file', 'basic_editor', 'file_system', 'row_labels', 'data_values', 'forecast_outline', 'ex_delete', 'import_random', 'clothing_jacket', 'pivot_tables', 'overall_revenue', 'regression_equation', 'immediate_window', 'version_control', 'text_files', 'grand_total', 'syntax_errors', 'external_new', 'macro_security', 'r_session', 'selection_font', 'learning_studio', 'computer_system', 'api_key', 'file_encoding', 'current_directory', 'data_set', 'cell_styles', 'selecting_cells', 'command_line', 'aggregate_functions', 'machine_learning', 'following_statements', 'analysis_sheet', 'org_eclipse', 'import_module', 'shortcut_key', 'memory_size', 'analysis_toolpak', 'data_size', 'binary_file', 'data_science', 'file_encodings', 'conditional_formatting', 'computing_platforms', 'edit_links', 'object_browser', 'data_tools'}\n",
      "62\n"
     ]
    }
   ],
   "source": [
    "unique_ngrams = set(ngrams)\n",
    "print(unique_ngrams)\n",
    "print(len(unique_ngrams))"
   ]
  },
  {
   "cell_type": "markdown",
   "metadata": {},
   "source": [
    "### Continuing preprocessing"
   ]
  },
  {
   "cell_type": "code",
   "execution_count": 167,
   "metadata": {},
   "outputs": [],
   "source": [
    "def clean_with_spacy(doc):\n",
    "\n",
    "    spacy_parser = spacy.load(\"en_core_web_sm\")\n",
    "    # Add custom stop words that are likely to appear in all topic models\n",
    "    spacy_parser.Defaults.stop_words |= {\"ubc\", \"mds\", \"lecture\", \"lab\", \"assignments\", \"example\", \"page\", \"ex\", \"import\"}\n",
    "    \n",
    "    spacy_doc = spacy_parser(doc.lower())\n",
    "\n",
    "    ngrams = [\n",
    "        ngram.text.replace(\" \", \"_\")    # ngrams are separated by spaces, so we replace them with underscores\n",
    "        for ngram in extract.ngrams(spacy_doc, n = 2, min_freq = 4, filter_punct = True, filter_nums = True, exclude_pos=[\"PROPN\", \"ORG\", \"DATE\", \"X\"]) \n",
    "        if not ngram.text.__contains__(\"=\") \n",
    "            and not ngram.text.__contains__(\"@\") \n",
    "            and not ngram.text.__contains__(\"$\")\n",
    "    ]\n",
    "    \n",
    "    # Remove stopwords, punctuation, and numeric tokens\n",
    "    tokens = [token.lemma_ \n",
    "                for token in spacy_doc \n",
    "                if not token.is_stop and not token.is_punct and not token.is_digit and token.is_alpha # Keep only words that are not stop words\n",
    "                and token.text not in [\"_\", \"+\", \"=\", \"\\n\",\"-\",\"*\",\"<\",\">\"]                           # Remove special characters\n",
    "                and not token.lemma_ == \"datum\"]                                                      # Do not lemmatize anything related to data                              \n",
    "    \n",
    "    return tokens + ngrams"
   ]
  },
  {
   "cell_type": "code",
   "execution_count": 168,
   "metadata": {},
   "outputs": [],
   "source": [
    "cleaned_data530 = clean_with_spacy(data[0])"
   ]
  },
  {
   "cell_type": "markdown",
   "metadata": {},
   "source": [
    "### Final Preprocessed Module"
   ]
  },
  {
   "cell_type": "code",
   "execution_count": 169,
   "metadata": {},
   "outputs": [
    {
     "name": "stdout",
     "output_type": "stream",
     "text": [
      "Number of words after cleaning: 11524\n",
      "['visual_basic', 'visual_basic', 'basic_editor', 'immediate_window', 'immediate_window', 'immediate_window', 'immediate_window', 'immediate_window', 'immediate_window', 'data_analysis', 'visual_basic', 'basic_editor', 'visual_basic', 'basic_editor', 'object_browser', 'ubco_master', 'data_science', 'conditional_formatting', 'data_analysis', 'data_analysis', 'cell_styles', 'clothing_jacket', 'cell_styles', 'clothing_jacket', 'clothing_jacket', 'selecting_cells', 'selecting_cells', 'selecting_cells', 'cell_styles', 'conditional_formatting', 'cell_styles', 'conditional_formatting', 'cell_styles', 'selecting_cells', 'cell_value', 'following_statements', 'cell_styles', 'clothing_jacket', 'aggregate_functions', 'data_values', 'aggregate_functions', 'conditional_formatting', 'cell_styles', 'aggregate_functions', 'aggregate_functions', 'cell_styles', 'clothing_jacket', 'clothing_jacket', 'clothing_jacket', 'aggregate_functions', 'following_statements', 'aggregate_functions', 'cell_styles', 'clothing_jacket', 'clothing_jacket', 'clothing_jacket', 'returns_true', 'returns_true', 'returns_true', 'returns_true', 'conditional_formatting', 'conditional_formatting', 'data_values', 'conditional_formatting', 'cell_styles', 'conditional_formatting', 'cell_value', 'cell_value', 'conditional_formatting', 'format_painter', 'conditional_formatting', 'cell_styles', 'format_painter', 'format_painter', 'format_painter', 'conditional_formatting', 'cell_styles', 'conditional_formatting', 'cell_styles', 'operating_system', 'operating_system', 'data_analysis', 'data_values', 'aggregate_functions', 'data_values', 'conditional_formatting', 'ubco_master', 'data_science', 'command_line', 'command_line', 'file_system', 'relative_path', 'command_line', 'text_files', 'data_science', 'data_science', 'data_analysis', 'data_science', 'data_analysis', 'data_analysis', 'command_line', 'data_analysis', 'command_line', 'command_line', 'command_line', 'command_line', 'command_line', 'command_line', 'text_files', 'command_line', 'operating_system', 'command_line', 'command_line', 'operating_system', 'operating_system', 'command_line', 'command_line', 'command_line', 'command_line', 'file_system', 'file_system', 'org_eclipse', 'org_eclipse', 'org_eclipse', 'org_eclipse', 'file_system', 'relative_path', 'current_directory', 'current_directory', 'current_directory', 'current_directory', 'relative_path', 'following_statements', 'relative_path', 'relative_path', 'relative_path', 'text_files', 'text_files', 'current_directory', 'text_file', 'version_control', 'version_control', 'computing_platforms', 'data_science', 'computing_platforms', 'data_science', 'data_science', 'computing_platforms', 'data_science', 'computing_platforms', 'data_science', 'command_line', 'command_line', 'command_line', 'data_science', 'command_line', 'command_line', 'version_control', 'version_control', 'ubco_master', 'data_science', 'syntax_errors', 'r_session', 'r_session', 'r_session', 'r_session', 'data_set', 'syntax_errors', 'syntax_errors', 'computer_system', 'computer_system', 'computer_system', 'computer_system', 'syntax_errors', 'ubco_master', 'data_science', 'computing_platforms', 'data_science', 'data_science', 'operating_system', 'operating_system', 'api_key', 'api_key', 'api_key', 'api_key', 'api_key', 'api_key', 'machine_learning', 'machine_learning', 'machine_learning', 'machine_learning', 'learning_studio', 'machine_learning', 'machine_learning', 'learning_studio', 'machine_learning', 'machine_learning', 'learning_studio', 'machine_learning', 'learning_studio']\n"
     ]
    }
   ],
   "source": [
    "print(f\"Number of words after cleaning: {len(cleaned_data530)}\")\n",
    "print(cleaned_data530[-200:])"
   ]
  },
  {
   "cell_type": "markdown",
   "metadata": {},
   "source": [
    "## Separating n-gram extraction from preprocessing function"
   ]
  },
  {
   "cell_type": "code",
   "execution_count": 196,
   "metadata": {},
   "outputs": [],
   "source": [
    "nlp = spacy.load(\"en_core_web_sm\", disable=[\"parser\", \"ner\"])  \n",
    "\n",
    "# Add custom stop words \n",
    "nlp.Defaults.stop_words |= {\"ubc\", \"mds\", \"lecture\", \"lab\", \"assignments\", \"example\", \"british\",\"columbia\", \"introduction\" ,\"page\", \"file\", \"question\", \"ex\", \"import\", \"jeffrey\", \"andrews\", \"irene\", \"vrbik\", \"shan\", \"du\", \"ifeoma\", \"adaji\", \"gema\", \"rodrigues\", \"fatemeh\", \"fard\", \"emelie\", \"gustafsson\", \"heinz\", \"bauschke\", \"travis\", \"douglas\", \"jones\", \"dave\", \"xiaoping\", \"shi\", \"khalad\", \"hasan\", \"ladan\", \"tazik\", \"ramon\", \"lawrence\", \"chu\", \"miller\", \"casey\", \"ritish\", \"smith\", \"lee\", \"university\", \"ιc\", \"jan\", \"feb\", \"mar\", \"tn\", \"pu\", \"xn\", \"ee\", \"sa\", \"fa\", \"toys\", \"bat\", \"clothing\", \"apples\", \"jacknife\", \"jacket\", \"following\", \"treatment\", \"let\", \"return\", \"returns\", \"true\", \"nh\", \"λy\", \"𝑘th\", \"ll\", \"lll\", \"calibri\", \"york\", \"florida\", \"illinois\", \"texas\", \"francisco\", \"quartersales\", \"quarterpivot\", \"food\", \"wind\", \"steak\", \"xlsx\", \"phd\", \"na\", \"kkt\", \"dur\", \"earlier\", \"city\", \"street\", \"false\"}"
   ]
  },
  {
   "cell_type": "code",
   "execution_count": 197,
   "metadata": {},
   "outputs": [],
   "source": [
    "def clean_without_ngrams(doc):\n",
    "\n",
    "    spacy_doc = nlp(doc.lower())\n",
    "\n",
    "    # Remove stopwords, punctuation, and numeric tokens\n",
    "    tokens = [\n",
    "        token.text \n",
    "        for token in spacy_doc \n",
    "        if not token.is_stop and not token.is_punct and not token.is_digit and token.is_alpha       # Keep only words that are not stop words\n",
    "            and token.text not in [\"_\", \"+\", \"=\", \"\\n\",\"-\",\"*\",\"<\",\">\"]                             # Remove special characters       \n",
    "            and not len(token.text) == 1                                                            # Remove single character words\n",
    "            # and token.pos_ in [\"NOUN\", \"ADJ\", \"VERB\", \"ADV\"]                                        # Keep only nouns, adjectives, verbs, and adverbs\n",
    "    ]    \n",
    "                                                                           \n",
    "    return tokens"
   ]
  },
  {
   "cell_type": "code",
   "execution_count": 198,
   "metadata": {},
   "outputs": [],
   "source": [
    "data_words = [clean_without_ngrams(doc) for doc in data]"
   ]
  },
  {
   "cell_type": "code",
   "execution_count": 199,
   "metadata": {},
   "outputs": [],
   "source": [
    "bigram = Phrases(data_words, min_count=10, threshold=20) \n",
    "trigram = Phrases(bigram[data_words], threshold=20) \n",
    "\n",
    "# Faster way to get a sentence clubbed as a trigram/bigram\n",
    "bigram_mod = Phraser(bigram)\n",
    "trigram_mod = Phraser(trigram)    \n",
    "\n",
    "def make_bigrams(texts):\n",
    "    return [bigram_mod[doc] for doc in texts]\n",
    "\n",
    "def make_trigrams(texts):\n",
    "    return [trigram_mod[bigram_mod[doc]] for doc in texts]"
   ]
  },
  {
   "cell_type": "code",
   "execution_count": 200,
   "metadata": {},
   "outputs": [],
   "source": [
    "data_words_bigrams = make_bigrams(data_words)\n",
    "data_words_trigrams = make_trigrams(data_words)"
   ]
  },
  {
   "cell_type": "code",
   "execution_count": 201,
   "metadata": {},
   "outputs": [],
   "source": [
    "bigrams = []\n",
    "\n",
    "for data_words_bigrams_doc in data_words_bigrams:    \n",
    "    for word in data_words_bigrams_doc:\n",
    "        if \"_\" in word:\n",
    "            bigrams.append(word)"
   ]
  },
  {
   "cell_type": "code",
   "execution_count": 202,
   "metadata": {},
   "outputs": [
    {
     "name": "stdout",
     "output_type": "stream",
     "text": [
      "Number of ngrams: 11118\n",
      "Number of unique ngrams: 528\n",
      "{'categor_product', 'styles_cells', 'employee_eno', 'er_relational', 'misclassification_rate', 'gradient_descent', 'collaboration_githubremote', 'styles_format', 'read_write', 'binary_tree', 'markov_chains', 'pip_install', 'bi_ai', 'ename_emp', 'social_media', 'prior_parameters', 'computing_environments', 'main_branch', 'numpy_array', 'projection_operators', 'db_develop', 'nonempty_optimal', 'experimental_design', 'hidden_states', 'primal_feasibility', 'dynamic_programming', 'xml_document', 'eno_pno', 'method_alternating', 'residual_ss', 'multinomial_logistic', 'rr_lasso', 'credit_card', 'circle_radius', 'converges_point', 'garner_hbr', 'high_level', 'title_salary', 'cost_revenue', 'analyst_analyst', 'convolutional_neural', 'motivating_review', 'linked_lists', 'paste_format', 'summary_statistics', 'non_negative', 'performance_indices', 'plot_load', 'negative_binomial', 'relational_mapping', 'likelihood_estimation', 'standard_deviations', 'step_convert', 'insert_layout', 'high_leverage', 'education_income', 'sets_dealing', 'sum_squares', 'result_posterior', 'covariance_matrix', 'recurrent_neural', 'hello_world', 'markup_language', 'wage_genes', 'nearest_neighbors', 'dom_set', 'error_rate', 'convex_nonsmooth', 'unit_testing', 'united_states', 'apache_spark', 'dual_feasibility', 'margin_classifier', 'coefficients_estimate', 'good_projected', 'cigarette_butts', 'random_variable', 'model_specifying', 'environments_step', 'fold_cv', 'cells_editing', 'specifying_beta', 'markov_chain', 'step_examples', 'step_stan', 'data_rr', 'degrees_freedom', 'highly_correlated', 'entity_type', 'alter_table', 'pno_pname', 'sql_queries', 'training_observations', 'poisson_process', 'chains_iter', 'random_walk', 'outer_join', 'output_gate', 'sam_sam', 'discriminant_analysis', 'relational_databases', 'git_clone', 'pull_request', 'suppose_convex', 'map_reduce', 'missing_values', 'def_def', 'plain_text', 'best_subset', 'local_minimizer', 'coin_toss', 'activation_functions', 'eigenface_eigenface', 'linear_models', 'likelihood_posterior', 'clipboard_font', 'binary_search', 'computer_science', 'rows_columns', 'exponential_random', 'data_carts', 'ui_non', 'linked_list', 'web_browser', 'shortest_path', 'maximize_subject', 'excel_home', 'standard_error', 'normal_regression', 'minimizers_nonempty', 'ai_case', 'mouse_movement', 'width_height', 'insertion_sort', 'guide_better', 'complementary_slackness', 'vs_unsupervised', 'ai_bi', 'conjugate_prior', 'deep_learning', 'interactive_visualization', 'experimental_units', 'home_insert', 'staging_area', 'modules_packages', 'unbiased_estimator', 'beta_prior', 'characters_string', 'multiplicative_congruential', 'transformations_actions', 'learning_algorithms', 'sets_remotest', 'input_output', 'rendered_output', 'anova_table', 'estimate_std', 'interior_dom', 'mcmc_monte', 'internal_state', 'minimize_subject', 'business_writing', 'dname_mgreno', 'today_class', 'stochastic_gradient', 'decision_trees', 'prior_coin', 'spark_streaming', 'examples_linear', 'activation_function', 'squared_statistic', 'chart_xcol', 'regression_model', 'old_faithful', 'information_coding', 'toss_posterior', 'reasonable_steplengths', 'mixture_models', 'transition_matrix', 'test_statistic', 'optimization_problem', 'operating_system', 'layout_formulas', 'parametric_methods', 'pname_budget', 'tuning_parameter', 'subgradient_method', 'ip_address', 'case_ai', 'link_function', 'git_commit', 'programming_languages', 'subset_selection', 'state_title', 'et_al', 'confidence_interval', 'method_generates', 'cad_cam', 'lower_upper', 'prior_diagnostics', 'naive_bayes', 'standard_deviation', 'time_step', 'maximum_likelihood', 'mlk_forest', 'primary_key', 'descent_directions', 'forest_mlk', 'table_delete', 'eno_ename', 'distance_measures', 'mean_sd', 'resp_hours', 'select_ename', 'density_function', 'simplex_method', 'altair_alt', 'multiple_choice', 'brief_history', 'dept_dno', 'vector_classifier', 'ubco_master', 'linear_combination', 'document_classification', 'mean_squared', 'conditional_formatting', 'ubgi_uc', 'git_add', 'dno_emp', 'tired_solving', 'jupyter_notebook', 'chain_information', 'profiling_cont', 'stepwise_selection', 'std_error', 'income_debt', 'california_new', 'projection_operator', 'lazy_evaluation', 'log_likelihood', 'objective_function', 'lower_case', 'road_design', 'numpy_arrays', 'yes_yes', 'convex_analysis', 'random_forests', 'effective_sample', 'stationary_point', 'worst_case', 'low_high', 'hidden_markov', 'semicontinuous_nonempty', 'target_population', 'test_screening', 'exchangeability_heads', 'css_grid', 'likelihood_prior', 'supereno_dno', 'high_dose', 'html_rendered', 'maximizing_likelihood', 'remote_repository', 'tone_language', 'association_rules', 'linear_discriminant', 'price_cost', 'feasibility_problem', 'box_testing', 'rows_returned', 'mod_mod', 'binomial_computing', 'private_key', 'git_checkout', 'git_push', 'margin_hyperplane', 'metropolis_algorithm', 'stan_step', 'hidden_layer', 'projected_subgradient', 'metropolis_hastings', 'foreign_keys', 'parameters_plotting', 'learning_rate', 'emp_join', 'max_ai', 'sign_share', 'neural_networks', 'optimal_solution', 'support_vector', 'probability_density', 'proportional_allocation', 'col_col', 'developer_team', 'uniform_distribution', 'random_variables', 'optimal_value', 'min_max', 'joint_density', 'data_rf', 'markdown_html', 'residual_standard', 'pandas_series', 'python_package', 'expected_value', 'mean_variance', 'remotest_set', 'neural_network', 'poisson_processes', 'stan_examples', 'prior_beta', 'var_var', 'ball_total', 'google_maps', 'emp_emp', 'php_php', 'chosen_randomly', 'format_clipboard', 'newton_method', 'pno_resp', 'heads_likelihood', 'generates_sequence', 'numpy_np', 'multilayer_neural', 'block_designs', 'dependent_variable', 'open_source', 'subset_interior', 'assessing_models', 'prediction_diagnostics', 'constant_proportionality', 'closed_convex', 'def_compute', 'version_control', 'sort_filter', 'fermat_rule', 'ball_chocolate', 'personal_information', 'non_null', 'unnormalized_posterior', 'chocolate_ball', 'fully_connected', 'object_oriented', 'poisson_distribution', 'sales_excel', 'decision_boundary', 'informative_prior', 'hypothesis_testing', 'error_terms', 'number_styles', 'indexing_slicing', 'linear_regression', 'randomized_block', 'maximal_margin', 'pandas_dataframes', 'predictive_modelling', 'parameter_estimates', 'emp_dept', 'font_alignment', 'intercept_slope', 'brute_force', 'hidden_state', 'memory_cell', 'factor_levels', 'normally_distributed', 'access_control', 'necessarily_differentiable', 'review_view', 'foreign_key', 'machine_learning', 'budget_dno', 'unsupervised_learning', 'multiple_linear', 'dataframes_cont', 'user_defined', 'cell_styles', 'beta_binomial', 'data_nmf', 'binomial_model', 'monte_carlo', 'lower_semicontinuous', 'referential_integrity', 'makes_sense', 'simple_linear', 'comparing_treatments', 'moving_linearity', 'visual_basic', 'command_line', 'model_coding', 'bayesian_inference', 'academic_dishonesty', 'theorem_assume', 'likelihood_contributions', 'convolutional_layers', 'left_right', 'radius_def', 'widget_required', 'response_variable', 'observational_studies', 'sql_server', 'fitted_model', 'minibatch_stochastic', 'join_proj', 'logistic_regression', 'moore_law', 'smooth_fi', 'xml_schema', 'real_numbers', 'lake_forest', 'emp_salary', 'statistical_learning', 'decision_boundaries', 'programming_language', 'heading_heading', 'prior_belief', 'signif_codes', 'aggregate_functions', 'better_business', 'sum_rule', 'diagnostics_markov', 'confidence_intervals', 'select_eno', 'null_hypothesis', 'starting_point', 'convex_subset', 'carlo_metropolis', 'dno_dname', 'random_sampling', 'stratified_sampling', 'bayes_classifier', 'ename_title', 'recall_maximum', 'global_minimizer', 'convex_feasibility', 'mac_address', 'hash_table', 'manager_manager', 'mary_lake', 'public_key', 'acceptance_probability', 'black_box', 'stationary_distribution', 'probability_distributions', 'web_server', 'target_speed', 'alternating_projections', 'relational_algebra', 'mac_os', 'product_month', 'working_directory', 'prior_specification', 'git_branch', 'forest_mary', 'test_observation', 'generalized_linear', 'bias_variance', 'modelling_binary', 'nonempty_closed', 'sample_size', 'ename_state', 'predictor_space', 'circle_circle', 'normalizing_constant', 'prox_operator', 'professor_computer', 'real_world', 'month_volume', 'functional_form', 'subgradient_descent', 'proximal_gradient', 'normal_normal', 'family_gaussian', 'google_analytics', 'prior_posterior', 'non_informative', 'replace_missing', 'feature_space', 'relative_path', 'bayes_theorem', 'size_prob', 'look_like', 'client_server', 'subgradient_methods', 'cluster_sampling', 'pseudorandom_numbers', 'supervised_learning', 'previous_slide', 'problem_minimize', 'non_parametric', 'stochastic_vs', 'max_formula', 'nan_nan', 'conv_pad', 'integrity_constraint', 'lag_lag', 'push_origin', 'width_width', 'colombie_britannique', 'set_minimizers', 'stochastic_projected', 'repo_main', 'amdahl_law', 'hierarchical_indexing', 'posterior_variance', 'burn_mcmc', 'pandas_pd', 'xml_version', 'semi_supervised', 'uniform_random', 'looks_like', 'posterior_exchangeability', 'revenue_chocolate', 'cross_validation', 'time_series', 'averages_medians', 'basic_subgradient', 'command_prompt', 'trace_plots', 'current_iterate', 'convex_lower', 'dash_html', 'main_main', 'feature_map', 'tell_sign', 'database_design', 'principle_optimality', 'volume_price', 'alignment_number', 'separating_hyperplane'}\n"
     ]
    }
   ],
   "source": [
    "print(f\"Number of ngrams: {len(bigrams)}\")\n",
    "unique_bigrams = set(bigrams)\n",
    "print(f\"Number of unique ngrams: {len(unique_bigrams)}\")\n",
    "print(unique_bigrams)"
   ]
  },
  {
   "cell_type": "code",
   "execution_count": 203,
   "metadata": {},
   "outputs": [],
   "source": [
    "trigrams = []\n",
    "\n",
    "for data_words_bigrams_doc in data_words_trigrams:    \n",
    "    for word in data_words_bigrams_doc:\n",
    "        if \"_\" in word:\n",
    "            trigrams.append(word)"
   ]
  },
  {
   "cell_type": "code",
   "execution_count": 204,
   "metadata": {},
   "outputs": [
    {
     "name": "stdout",
     "output_type": "stream",
     "text": [
      "Number of ngrams: 17304\n",
      "Number of unique ngrams: 1625\n",
      "{'number_styles_cells_editing', 'independent_bernoulli', 'sql_query', 'bold_width_width', 'output_sinks', 'collaboration_githubremote', 'partition_key', 'dog_dog', 'visual_acuity', 'read_write', 'package_pypi', 'machine_learning_algorithms', 'depth_search', 'password_password', 'forget_gate', 'bi_ai', 'chains_iter_seed', 'dimensional_euclidean', 'batch_size', 'db_develop', 'experimental_design', 'unique_point', 'max_min', 'rr_lasso', 'regression_data_carts', 'bit_bit', 'called_learning_rate', 'syntax_stan_examples', 'dash_dbc', 'closed_convex_subset', 'title_pr', 'magic_numbers', 'tag_names', 'normal_normal_model', 'summary_statistics', 'cross_validated', 'long_run', 'performance_indices', 'relational_mapping', 'visited_stack', 'straight_line', 'empirical_comparison', 'step_convert', 'average_response', 'binomial_poisson', 'dear_math', 'ubco_master_data', 'conda_install', 'informed_consent', 'covariance_matrix', 'house_price', 'recurrent_neural', 'errors_exceptions', 'pandas_pd_altair_alt', 'nearest_neighbors', 'united_states', 'apache_spark', 'web_site', 'proxg_proxf', 'coefficients_estimate', 'guideline_constitutes', 'model_checking', 'mcmc_posterior', 'fold_cv', 'click_visit', 'operating_systems', 'peer_peer', 'forest_mlk_forest_mary', 'selected_references', 'alcohol_malic', 'rm_system', 'volume_price_cost_revenue', 'course_material', 'reject_null_hypothesis', 'stochastic_gradient_descent', 'convergence_results', 'kelowna_education_income', 'highly_correlated', 'training_observations', 'joint_probability_density', 'multivariate_gaussian', 'overall_grade', 'git_clone', 'pull_request', 'convolutional_neural_networks', 'missile_success', 'stationary_points', 'local_minimizer', 'create_table', 'test_mse', 'best_case', 'tired_solving_tired', 'coin_toss', 'twine_upload', 'linear_models', 'limiting_distribution', 'things_like', 'dept_dno_emp_emp', 'validation_set', 'forward_propagation', 'maximize_subject_ax', 'bootstrap_bootstrap', 'data_carts', 'web_browser', 'shortest_path', 'maximize_subject', 'standard_error', 'set_projection', 'normal_regression', 'width_height', 'normal_random_variable', 'vectors_componentents', 'ai_bi', 'alternative_hypothesis', 'filter_revenue', 'reapply_text', 'students_able', 'eno_pno_resp_hours', 'relational_schema', 'characters_string', 'transformations_actions', 'col_value', 'price_cost_revenue', 'mathematics_kelowna', 'rendered_output', 'estimate_std', 'mcmc_monte', 'minimum_maximum', 'minimize_subject', 'title_numemp', 'questions_comparing', 'source_advanced', 'root_vegetables', 'nan_nan_nan_nan', 'mixture_models', 'transition_matrix', 'git_merge', 'er_diagram', 'health_care', 'dir_dir', 'indexing_sub', 'tv_radio', 'denial_service', 'web_sites', 'setosa_versicolor', 'subgradient_method', 'feature_branch', 'residual_standard_error', 'unbiased_estimator_subgradient', 'programming_languages', 'relationship_type', 'reasonable_steplengths_recall', 'long_term', 'ridge_regression', 'parameter_estimation', 'diet_yes', 'professor_computer_science', 'log_log', 'naive_bayes', 'standard_deviation', 'doz_sign_share', 'sales_excel_home_insert', 'canada_research', 'weight_loss', 'maxpool_stride', 'primary_key', 'low_dose', 'descent_directions', 'resp_hours', 'random_numbers', 'double_quotes', 'dept_dno', 'input_layer', 'cm_set_minimizers', 'systems_tools', 'altair_plot', 'bernoulli_trials', 'document_classification', 'diagnostics_effective_sample', 'tree_traversal', 'basic_principles', 'conditional_formatting', 'assumptions_write', 'cad_cam_maintenance', 'education_income_debt', 'modeling_simulation', 'dot_product', 'equations_suppose', 'jane_biology', 'original_image', 'probability_sampling', 'stepwise_selection', 'std_error', 'lazy_evaluation', 'linear_programming', 'prior_information', 'suppose_nonempty_closed', 'privacy_policy', 'convex_analysis', 'line_line', 'stationary_point', 'lurking_variables', 'font_alignment_number_styles', 'eno_ename_bdate', 'support_vector_machines', 'high_dose', 'dash_dcc', 'html_rendered', 'default_status', 'nonempty_optimal_value', 'turn_approximately', 'stratified_random_sampling', 'remote_repository', 'association_rules', 'mixture_model', 'difference_treatments', 'rows_returned', 'course_removal', 'syntax_errors', 'bitter_malty', 'oct_nov', 'private_key', 'margin_hyperplane', 'metropolis_algorithm', 'fast_pgm', 'json_json', 'learning_rate', 'standard_form', 'assume_li', 'learning_material', 'male_female', 'multi_valued', 'uniform_distribution', 'optimal_value', 'widget_required_plot_load', 'multiplication_division', 'python_package', 'figure_left', 'burn_mcmc_trace_plots', 'estimating_measurements', 'age_age', 'mean_variance', 'remotest_set', 'authorization_identifier', 'objectives_understand', 'pull_requests', 'bi_ai_bii', 'neural_network', 'poisson_processes', 'atl_abe', 'easy_understand', 'bi_minimizing', 'ball_total', 'border_radius', 'php_php', 'map_filter', 'value_maximizes', 'projection_method', 'column_names', 'data_science', 'pno_resp', 'attribute_style', 'algorithms_ubco_master', 'visual_basic_editor', 'numpy_np', 'real_line', 'open_source', 'bdate_title_salary', 'product_space', 'constant_proportionality', 'μn_record', 'spark_dataframes', 'search_engines', 'method_alternating_projections', 'fully_connected', 'poisson_distribution', 'configuration_steps', 'low_bias', 'privacy_security', 'decision_boundary', 'advanced_machine_learning', 'hr_temp', 'dom_set_minimizers_nonempty', 'share_connections', 'life_expectancy', 'add_ins', 'convolution_layers', 'results_dep', 'cell_phones', 'limit_offset', 'access_control', 'review_view', 'course_information', 'git_github', 'unsupervised_learning', 'multiple_linear', 'user_defined', 'errors_occur', 'decision_tree', 'professional_ethics', 'fully_connected_layers', 'bitter_bitter', 'euclidean_plane', 'projected_subgradient_method', 'failure_rate', 'bayesian_inference', 'non_null_non_null', 'las_vegas', 'likelihood_contributions', 'response_variable', 'diagnostics_markov_chain_information', 'employees_title', 'sql_server', 'fitted_model', 'standard_normal', 'second_derivative', 'white_box_testing', 'bootstrap_approach', 'smooth_fi', 'xml_schema', 'emp_salary', 'programming_language', 'heading_heading', 'prior_belief', 'aggregate_functions', 'apply_sql_queries', 'engineer_analyst', 'emp_join_workson', 'fx_rates', 'convex_subset', 'successes_failures', 'results_recall', 'residual_blocks', 'stationary_distribution', 'ylab_success', 'relational_algebra', 'mac_os', 'instead_involves', 'git_add_git_commit', 'height_color', 'product_month', 'git_branch', 'learning_outcomes', 'select_ename_dname', 'proj_table', 'bias_variance', 'instruments_engineer', 'seen_case_ai', 'circle_circle', 'normalizing_constant', 'computing_environments_syntax', 'month_volume', 'garner_hbr_guide_better', 'functional_form', 'version_control_system', 'fermat_rule_constrained', 'eggs_ham', 'family_gaussian', 'hidden_units', 'pooling_layers', 'population_area', 'easily_computable', 'relational_database', 'look_like', 'chosen_randomly_uniform_distribution', 'pseudorandom_numbers', 'non_parametric', 'emission_matrix', 'anonymous_function', 'regression_coefficients', 'gaussian_distribution', 'push_origin', 'paste_format_table_delete', 'factorial_design', 'colombie_britannique', 'correct_margin', 'structured_streaming', 'amdahl_law', 'necessarily_differentiable_set', 'mcmc_proposal', 'distribution_degrees_freedom', 'hierarchical_indexing', 'height_son', 'xml_version', 'uniform_random', 'chart_bin', 'continuous_integration', 'good_projected_subgradient_method', 'image_source', 'revenue_chocolate', 'dcc_html', 'time_series', 'tell_sign_share', 'stochastic_approach', 'command_prompt', 'dash_html', 'dept_dept', 'main_main', 'low_level', 'pc_selection', 'binomial_model_posterior', 'callback_decorator', 'normal_distribution', 'function_calls', 'ash_alcalinity', 'value_intercept', 'employee_eno', 'independent_measurements', 'steplength_set', 'continued_assume', 'alternating_projections_sets_dealing', 'table_delete_cell_styles', 'newton_method_finding', 'string_reversal', 'semi_structured', 'memory_cell_internal_state', 'advanced_columns', 'usa_atl', 'method_turns', 'string_specified', 'format_clipboard_font_alignment', 'kernel_density', 'connections_eh', 'prior_parameters', 'computer_program', 'main_branch', 'motivating_regression', 'scatter_plot', 'hidden_states', 'dynamic_programming', 'build_skills', 'converges_point', 'min_sec', 'blue_nan', 'image_processing', 'current_directory', 'microsoft_sql_server', 'properties_sort_filter', 'know_min', 'item_queue', 'bold_italics', 'lohr_extension', 'excel_vba', 'workson_eno_pno', 'linked_lists', 'single_layer', 'coefficients_estimate_std_error', 'color_origin', 'best_subset_selection', 'suppose_convex_necessarily_differentiable', 'non_negative', 'autoregressive_time_series', 'test_screening_motivating', 'government_canada', 'yves_lucet', 'performance_measure', 'minutes_ago', 'lamb_red', 'dbfs_idatabricks', 'abe_atl', 'sum_squares', 'links_advanced', 'data_information_coding', 'probability_distribution', 'direct_approach', 'convex_nonsmooth', 'slightly_different', 'margin_classifier', 'theorem_assume_assumptions', 'non_linearity', 'individually_critical', 'cigarette_butts', 'output_estimate_std', 'gives_euclidean', 'environments_step', 'specifying_beta', 'pivot_table', 'usa_usa', 'differentiating_respect', 'pole_pole', 'xi_yi', 'alter_table', 'subgradients_convex', 'ename_state_title_salary', 'forest_mary_lake_forest', 'sam_sam', 'subgradients_subgradient', 'method_reasonable', 'suppose_convex', 'missing_values', 'statistical_learning_method', 'σg_γg', 'feasible_region', 'right_subtree', 'failure_times', 'hadley_wickham', 'fibonacci_sequence', 'create_view', 'solved_group', 'distributed_canvas', 'likelihood_posterior', 'mean_square', 'internet_web', 'database_systems', 'computer_science', 'qr_decomposition', 'residual_plots', 'exponential_distribution', 'state_country', 'second_li', 'progress_including', 'secret_key', 'ai_case', 'forecast_outline', 'stationarity_compl', 'conjugate_prior', 'datasets_structured', 'inner_product', 'worth_overall', 'interactive_visualization', 'experimental_units', 'text_files', 'rate_parameter', 'likelihood_function', 'thousands_dollars', 'allows_indexing_slicing', 'dequeue_visit', 'test_suites', 'debt_vancouver', 'multiplicative_congruential', 'learning_algorithms', 'sampling_design', 'bikes_family_gaussian', 'internal_state', 'command_line_arguments', 'entity_types', 'having_clause', 'joint_density_function', 'observation_belongs', 'web_services', 'examples_linear', 'coding_hat', 'design_analysis', 'linear_equations', 'δx_δy', 'sampling_protocol', 'price_list', 'maximal_margin_classifier', 'source_destination', 'backgroundcolor_fontweight', 'multinomial_logistic_regression', 'fold_cv_slr', 'test_statistic', 'rachford_algorithm', 'compl_slackn', 'colombie_britannique_years', 'update_cascade', 'parametric_methods', 'pname_budget', 'tuning_parameter', 'sampling_frame', 'workson_join_proj', 'ip_address', 'case_ai', 'link_function', 'non_linear', 'distance_origin', 'git_branch_branchname', 'subset_selection', 'ui_beta_binomial', 'et_al', 'method_generates', 'engineering_blue', 'cad_cam', 'handed_time', 'maximum_likelihood', 'test_cases', 'window_operations', 'minibatch_stochastic_gradient_descent', 'microsoft_excel', 'set_subgradients', 'forking_workflow', 'select_ename', 'bayes_numerator', 'multiple_linear_regressi', 'normal_regression_model', 'air_bag', 'simplex_method', 'convolution_domain', 'peg_peg', 'multiple_choice', 'col_col_selectable', 'tug_war', 'ubco_master', 'linear_combination', 'assessing_model', 'mean_squared', 'unique_minimizer', 'git_add', 'possible_samples', 'tired_solving', 'jupyter_notebook', 'hidden_layers', 'missile_successes', 'convex_feasibility_problem', 'overall_goal', 'practice_practice', 'sensitive_attribute', 'like_green', 'income_debt', 'log_likelihood', 'cumulative_distribution', 'recall_selection', 'numpy_arrays', 'bayesian_plots', 'prior_likelihood', 'engineer_maintenance', 'write_queries', 'web_servers', 'google_maps_api', 'matt_bishop', 'target_population', 'likelihood_prior', 'desperate_need', 'discuss_today', 'app_chriddyp', 'share_general', 'box_testing', 'predicted_actual', 'mod_mod', 'binomial_computing', 'apple_orange', 'git_push', 'coefs_degree', 'hidden_layer', 'projected_subgradient', 'grant_option', 'rain_events', 'regular_projected_subgradient', 'experimental_unit', 'lambda_data_rr', 'logit_function', 'adjacent_vertices', 'coef_std', 'probability_density', 'proportional_allocation', 'pairwise_distances', 'data_clustering', 'multiple_linear_regression', 'dy_ds', 'shown_dashed', 'lasso_scaling', 'mse_speed', 'bayesian_statistics', 'optimal_allocation', 'smooth_fi_max_ai', 'rdd_rdd', 'apply_stochastic_gradient', 'git_pull', 'designed_prepare', 'sara_chemistry', 'middle_word', 'unit_ball', 'method_spgm', 'markov_chain_monte_carlo', 'traceback_recent', 'subset_interior', 'central_interval', 'closed_convex', 'ss_residual_ss', 'install_software', 'database_system', 'predictive_model', 'personal_information', 'chocolate_ball', 'probability_success', 'height_width', 'selection_reasonable_steplengths', 'stream_processing', 'sam_like', 'los_angeles', 'devoted_farms', 'sampling_units', 'necessarily_differentiable', 'def_chart', 'estimation_qr', 'machine_learning', 'budget_dno', 'coin_coin', 'divide_conquer', 'california_new_new', 'square_root', 'green_red', 'quasi_identifiers', 'way_anova', 'data_nmf', 'binomial_model', 'lower_semicontinuous', 'predictive_modeling', 'dno_dname_mgreno', 'rd_underlying', 'lp_problem', 'visual_basic', 'emp_table', 'gravy_cheese', 'course_objectives', 'convolutional_layer', 'time_reversible', 'convolutional_layers', 'radius_def', 'finite_population', 'number_channels', 'new_branch', 'left_hand', 'find_probability', 'logistic_regression', 'sign_ain', 'tools_forecast', 'log_λi', 'nc_nc', 'likelihood_prior_posterior_exchangeability', 'select_eno', 'wrong_margin', 'experimental_plans', 'merge_sort', 'chemistry_lamb', 'xlab_speed', 'cluster_dendrogram', 'user_interface', 'nonnegative_linear', 'application_windspeed', 'poisson_regression', 'stratified_sampling', 'ename_title', 'treatments_blocks', 'manager_manager', 'black_box', 'shape_scale', 'alternating_projections', 'backpropagation_time', 'theoretical_quantiles', 'linear_discriminant_analysis', 'chest_pain', 'sample_size', 'predictor_space', 'classification_separating_hyperplane', 'shared_memory', 'setting_convex_lower', 'conditional_statement', 'normal_normal', 'pv_jv', 'generative_models', 'support_vectors', 'feature_space', 'bayes_theorem', 'decision_making', 'analysis_sheet', 'size_prob', 'subgradient_methods', 'writing_assignment', 'expected_value_variance', 'word_phrase', 'multidimensional_scaling', 'local_machine', 'inner_loop', 'emp_emp_dept_dno', 'shortest_paths', 'covariance_structure', 'semi_supervised', 'rows_similar', 'optimization_problems', 'node_child', 'trace_plots', 'assessing_models_bias_variance', 'feature_map', 'case_bi', 'log_likelihood_maximum', 'number_generators', 'plane_etc', 'absolute_values', 'suppose_rm', 'alignment_number', 'separating_hyperplane', 'categor_product', 'er_relational', 'person_def', 'prior_chains_iter', 'gradient_descent', 'styles_format', 'markov_chains', 'pip_install', 'margin_margin', 'leave_cross_validation', 'birth_gender', 'social_media', 'sort_filter_reapply', 'cheating_labs', 'numpy_array', 'select_statement', 'trt_trt', 'conjugate_prior_ui_non', 'underlying_space', 'weak_duality', 'eno_pno', 'residual_ss', 'decision_variables', 'credit_card', 'apache_hadoop', 'high_level', 'title_salary', 'python_java', 'density_estimation', 'data_moving_linearity', 'randomly_selected', 'pq_σg', 'likelihood_prior_coin_toss', 'srcdoc_def', 'primal_problem', 'dcm_max', 'influence_posterior', 'pr_consultant', 'open_source_projects', 'gn_mgin', 'negative_binomial', 'age_height', 'completely_randomized', 'special_case', 'standard_deviations', 'convolved_image', 'convex_nonsmooth_recall_maximum', 'row_column', 'prediction_diagnostics_posterior', 'training_mse', 'posterior_distribution', 'generalized_linear_model', 'proxg_proxg', 'deep_neural_networks', 'hello_world', 'table_query', 'markup_language', 'hue_proline', 'supervised_vs_unsupervised', 'change_directory', '𝑖th_observation', 'dual_feasibility', 'fault_tolerance', 'converges_point_cool', 'random_variable', 'programmer_davis', 'cells_editing', 'convolutional_neural_network', 'excel_home_insert_layout', 'relational_model', 'proportion_variance', 'modified_score', 'markov_chain', 'descent_direction', 'degrees_freedom', 'mary_lake_forest_mlk', 'output_layer', 'beta_distribution', 'submitting_code', 'sql_queries', 'pno_pname', 'maximal_margin_hyperplane', 'predictors_modelling_binary', 'set_minimizers_nonempty_optimal', 'poisson_process', 'rights_reserved', 'chains_iter', 'output_gate', 'simple_random_sampling', 'relational_databases', 'blue_curve', 'plain_text', 'variance_cumulative', 'wish_solve', 'convex_lower_semicontinuous', 'eigenface_eigenface', 'cigarette_butt', 'er_relational_mapping', 'clipboard_font', 'rows_columns', 'copy_paste', 'nearest_neighbors_knn', 'data_frames', 'mouse_movement', 'complementary_slackness', 'binomial_random_variable', 'wage_genes_notation', 'new_css_grid', 'sufficient_conditions', 'σg_σg', 'deep_learning', 'end_end', 'obtain_subdifferential', 'home_insert', 'base_case', 'staging_area', 'computer_vision', 'beta_prior', 'projected_subgradient_methods', 'semi_supervised_modelling', 'sets_remotest', 'squared_statistic_df', 'distance_matrix', 'zip_code', 'business_writing', 'today_class', 'decision_trees', 'classification_trees', 'code_coverage', 'mlk_forest_mary_lake', 'spark_streaming', 'high_dimensional', 'eno_pno_resp', 'chart_xcol', 'alpha_alpha', 'son_height', 'regression_model', 'connections_sort_filter', 'old_faithful', 'ray_emanating', 'toss_posterior', 'reasonable_steplengths', 'api_key', 'able_identify', 'hierarchical_clustering', 'time_consuming', 'slr_cars', 'primary_keys', 'ith_observation', 'works_follows', 'transition_probabilities', 'disks_peg', 'ga_usa', 'ai_case_exact', 'survey_sampling', 'motivating_classification', 'logistic_regression_model', 'proximal_gradient_method', 'state_title', 'population_state', 'confidence_interval', 'employee_eno_ename_state', 'bayesian_framework', 'lower_upper', 'selection_dataframes_cont', 'github_marks', 'boosting_boosting', 'time_step', 'immediate_window', 'wing_length', 'set_μn', 'proprietary_software', 'table_delete', 'averages_medians_averages_medians', 'obtain_sum_rule', 'mean_sd', 'density_function', 'maximum_likelihood_estimation', 'ax_solution', 'grocery_store', 'altair_alt', 'sig_intercept', 'edit_links', 'differentiable_simplicity', 'advantages_disadvantages', 'vector_classifier', 'research_area', 'hwy_rockslide', 'use_max_formula', 'events_occur', 'revenue_chocolate_ball_chocolate', 'pm_science', 'ubgi_uc', 'density_curve', 'profiling_cont', 'positive_negative', 'windows_mac_os', 'academic_dishonesty_cheating', 'debugging_tools', 'srcdoc_widget', 'impact_impact', 'try_statement', 'road_design', 'public_attribute', 'random_forests', 'sensitive_attributes', 'state_markov_chain', 'points_minimizer', 'heads_likelihood_prior_coin', 'low_high', 'hidden_markov', 'clicking_install', 'review_view_developer_team', 'css_grid', 'open_source_software', 'maximizing_likelihood', 'tone_language', 'random_sample', 'nonsmooth_convex', 'non_overlapping', 'space_rd', 'parent_class', 'sampling_distribution', 'factor_analysis', 'twice_year', 'feasibility_problem', 'data_cross_validation', 'sequential_models', 'able_write', 'vertices_edges', 'norms_weight', 'privileges_users', 'regression_trees', 'reasonable_steplengths_theorem_assume', 'metropolis_hastings', 'end_able', 'markov_chains_diagnostics', 'primary_key_relation', 'def_age', 'sign_share', 'optimal_solution', 'support_vector', 'uniform_random_variables', 'creating_numpy_arrays', 'infinite_state', 'random_variables', 'create_new', 'data_rf', 'total_number', 'forward_stepwise_selection', 'short_term', 'pandas_series', 'df_residuals', 'lasso_proof', 'expected_value', 'discrete_optimization', 'minimizing_sum', 'sql_injection', 'building_block', 'grant_privileges', 'bits_bits', 'basic_convergence', 'recall_subdifferential', 'stan_examples', 'moore_penrose', 'green_eggs', 'prior_beta', 'var_var', 'emp_emp', 'summary_general', 'stock_market', 'scratch_cont', 'weighted_average', 'central_limit', 'st_louis', 'exponential_random_variable', 'chosen_randomly', 'squared_squared_statistic', 'ip_addresses', 'informative_prior_beta_binomial', 'minimize_fi', 'irreducible_error', 'measurement_error', 'dependent_variable', 'assessing_models', 'answers_questions', 'cluster_nodes', 'version_control', 'upper_case', 'sum_revenue', 'unnormalized_posterior', 'proof_concept', 'non_null', 'object_oriented', 'replace_missing_values', 'mixture_models_mixture', 'input_sources', 'sales_excel', 'primal_feasibility_dual_feasibility', 'indexing_slicing', 'mac_linux', 'parameter_estimates', 'descent_directions_stochastic_gradient', 'emp_dept', 'brute_force', 'memory_cell', 'normally_distributed', 'subdifferential_operator', 'xml_version_depts', 'convex_calculus', 'fermat_rule_pick', 'chart_chart', 'breadth_search', 'dataframes_cont', 'equal_equal', 'hash_tables', 'theorem_polyak', 'makes_sense', 'built_version', 'simple_linear', 'null_null', 'comparing_treatments', 'comparison_operators', 'moving_linearity', 'hj_ds', 'frosted_flakes', 'query_edit', 'command_line', 'left_subtree', 'normal_random_variables', 'add_commit', 'bayes_decision_boundary', 'step_step', 'javascript_object', 'left_right', 'observational_studies', 'standard_deviation_proportion', 'ana_cb', 'remote_login', 'tables_header', 'moore_law', 'layout_formulas_data', 'max_pooling', 'decision_boundaries', 'better_business', 'diagnostics_markov', 'operator_fi', 'circle_radius_def_compute', 'sequence_vectors', 'encrypt_decrypt', 'functools_reduce', 'pno_pname_budget', 'random_sampling', 'bayes_classifier', 'minimizer_minimum', 'dept_dno_mgr', 'optional_arguments', 'course_materials', 'acres_devoted', 'convex_feasibility', 'mac_address', 'json_xml', 'multiplicative_congruential_generator', 'mary_lake', 'public_key', 'web_server', 'target_speed', 'style_basics', 'beta_binomial_computing_environments', 'prior_specification', 'stochastic_vs_regular', 'nonempty_closed', 'convergence_spgm', 'child_class', 'label_vertex', 'hash_function', 'variance_estimator', 'academic_dishonesty_result', 'encryption_decryption', 'degree_vertex', 'pros_cons', 'keyword_arguments', 'repository_github', 'non_informative', 'pr_davis', 'org_eclipse', 'explicit_written', 'relative_path', 'simple_linear_regression', 'html_css', 'cb_cb', 'fold_cross_validation', 'pivot_tables', 'supervised_learning', '𝑥𝑛_𝑦𝑛', 'permission_copyright', 'random_forest', 'upload_package', 'doe_null', 'support_vector_machine', 'lake_forest_mlk_forest', 'support_vector_classifier', 'nan_nan', 'conv_pad', 'cross_border', 'dx_dy', 'set_minimizers', 'stochastic_projected', 'family_poisson', 'pno_pname_budget_dno', 'rand_index', 'emp_relation', 'pandas_pd', 'manager_analyst_analyst', 'git_status', 'salary_emp', 'middle_middle', 'gini_index', 'new_refresh', 'tell_sign', 'database_design', 'web_pages', 'marginal_probability_density', 'takes_form', 'height_father', 'randomized_block_designs', 'details_support_vector', 'volume_price', 'artificial_intelligence', 'prediction_stratification', 'styles_cells', 'cycle_length', 'misclassification_rate', 'posterior_predictive', 'degrees_freedom_multiple', 'sampled_population', 'binary_tree', 'hdfs_hdfs', 'hold_satisfies', 'eur_cad', 'chocolate_ball_chocolate_ball', 'eno_ename_title_salary', 'ename_emp', 'projection_operators', 'closed_form', 'convex_dom', 'students_program', 'month_vacation', 'pypi_repository', 'primal_feasibility', 'xml_document', 'input_gate', 'state_space', 'circle_radius', 'misleading_results', 'chi_square', 'software_development', 'analyst_analyst', 'odd_backgroundcolor', 'git_push_origin', 'predicting_counts', 'bayesian_frequentist', 'linear_relationship', 'logistic_function', 'mpv_package', 'likelihood_estimation', 'uniform_random_variable', 'high_leverage', 'monte_carlo_integration', 'ball_chocolate_ball_chocolate', 'real_numbers_xd', 'world_wide', 'result_posterior', 'data_structures', 'dash_app', 'error_rate', 'unit_testing', 'sample_sizes', 'inclusion_probability', 'firmly_nonexpansive', 'taylor_theorem', 'style_needed', 'descending_order', 'model_specifying', 'text_editor', 'anonymous_functions', 'build_backend', 'consider_basic_subgradient', 'remote_repo', 'rhetorical_situation', 'str_string', 'atlanta_ga', 'entity_type', 'create_dataframe', 'random_walk', 'outer_join', 'warning_package', 'generalized_linear_models', 'discriminant_analysis', 'outlier_detection', 'map_reduce', 'def_def', 'weight_decay', 'materials_permitted', 'activation_functions', 'department_dno_dname', 'copied_revised', 'tree_based', 'strata_weights', 'binary_search', 'resilient_distributed', 'exponential_random', 'datetime_datetime', 'simulation_studies', 'vanishing_gradients', 'clear_external', 'push_pop', 'linked_list', 'interior_dom_set_minimizers', 'querying_graphframe', 'refresh_properties', 'double_double', 'trump_tower', 'residual_sum_squares', 'functional_programming', 'instance_entity', 'insertion_sort', 'predictor_variable', 'proportion_impurity', 'chris_anderson', 'step_stan_step_examples', 'called_subgradients', 'modules_packages', 'pooling_layer', 'unbiased_estimator', 'prior_prior', 'bar_chart', 'normal_regression_model_coding', 'effective_sample_size', 'month_volume_price_cost', 'normal_plot', 'input_output', 'result_posterior_variance', 'anova_table', 'index_pypi', 'interior_dom', 'cells_editing_categor_product', 'point_events', 'dname_mgreno', 'heads_tails', 'dimensional_poisson_processes', 'prior_coin', 'query_language', 'references_delete', 'activation_function', 'select_dname', 'stochastic_projected_subgradient_descent', 'modelling_simulation', 'em_algorithm', 'histogram_histogram', 'dashed_line', 'sgd_works', 'optimization_problem', 'operating_system', 'selection_basic_subgradient', 'doe_pr', 'learning_algorithm', 'likelihood_ui', 'app_layout', 'random_variable_degrees_freedom', 'git_commit', 'tone_language_style', 'emp_join_emp', 'cell_styles_format_clipboard', 'closely_related', 'ohio_ohio', 'nonempty_set', 'polynomial_regression', 'magnesium_phenols', 'mlk_forest', 'optimal_value_remarks', 'quick_access', 'eno_ename', 'distance_measures', 'constrained_problems', 'recurrent_neural_networks', 'input_pandas_pd', 'brief_history', 'general_purpose', 'running_time', 'matrices_vectors', 'dno_emp', 'trace_plot', 'test_suite', 'convex_λf', 'descent_directions_sign', 'data_scientist', 'estimation_metropolis_algorithm', 'carlo_metropolis_algorithm', 'model_coding_prior_diagnostics', 'cloud_computing', 'median_max', 'solutions_nonempty', 'finding_maximizer', 'euclidean_distance', 'california_new', 'projection_operator', 'objective_function', 'lower_case', 'instructor_dr', 'basis_basis', 'yes_yes', 'dotted_line', 'worst_case', 'population_parameter', 'relate_target_speed', 'exchangeability_heads', 'supereno_dno', 'project_pno_pname', 'modelling_binary_responses', 'title_salary_dno', 'commit_changes', 'price_cost', 'data_rr_lasso', 'markdown_html_rendered_output', 'category_product_month', 'dept_mgreno', 'vectors_points', 'git_checkout', 'problem_minimize_subject', 'stan_step', 'error_message', 'publicly_available', 'confidence_interval_population', 'total_ss', 'nonempty_closed_convex_subset', 'foreign_keys', 'okanagan_valley', 'revenue_month', 'pseudorandom_number', 'emp_join', 'moving_average', 'bugs_computing_environments', 'temp_feel', 'neural_networks', 'theorem_needed', 'select_emp', 'prox_grad', 'col_col', 'matrix_highly_correlated', 'lambda_functions', 'joint_density', 'min_max', 'quartersalesformat_ready', 'markdown_html', 'office_hours', 'excel_course', 'lambda_lambda', 'flavanoids_nonflavanoid', 'produced_working', 'father_height', 'absolute_value', 'experiment_box', 'sample_mean', 'google_maps', 'predictor_variables', 'newton_method', 'beta_prior_parameters_plotting', 'optimal_solutions', 'heads_likelihood', 'generates_sequence', 'mod_mod_mod_mod', 'step_convert_relationships', 'multilayer_neural', 'block_designs', 'vector_length', 'mean_standard_deviation', 'parallel_chains', 'relative_frequency', 'probability_frequentist', 'def_compute', 'case_fi', 'suppose_convex_lower_semicontinuous', 'fermat_rule', 'ball_chocolate', 'entity_integrity_constraint', 'prior_sample_size', 'equal_sign', 'lectures_labs', 'distributed_datasets', 'acid_properties', 'xi_xi', 'binary_splitting', 'hypothesis_testing', 'error_terms', 'cheese_curds', 'linear_regression', 'pandas_dataframes', 'predictive_modelling', 'intercept_slope', 'hidden_state', 'factor_levels', 'lasso_beer', 'brief_history_motivating_review', 'collaboration_githubremote_repo_main', 'title_salary_supereno_dno', 'echo_hello', 'level_factor', 'insert_paste_format', 'select_ename_emp', 'test_hypothesis', 'foreign_key', 'support_confidence', 'clustering_old_faithful', 'piecewise_polynomials', 'cell_styles', 'beta_binomial', 'monte_carlo', 'referential_integrity', 'midterm_mark', 'widget_value', 'fitted_values', 'ball_chocolate_ball_total', 'success_fail', 'semicontinuous_nonempty_closed_convex', 'sign_ai', 'randomized_block_design', 'surface_air', 'operator_prox', 'probability_mass', 'hypothesis_test', 'sub_setting', 'join_proj', 'lj_sp', 'points_color', 'normal_cone', 'high_availability', 'mean_response', 'standard_errors', 'real_numbers', 'statistical_learning', 'clone_repository', 'signif_codes', 'null_values', 'sum_rule', 'confidence_intervals', 'necessary_conditions', 'consultant_engineer', 'null_hypothesis', 'spark_rdd', 'factor_analyzers', 'starting_point', 'dno_dname', 'optimal_value_stochastic_projected', 'state_art', 'heading_heading_heading_heading', 'instruments_db_develop', 'μn_inf', 'global_minimizer', 'proanthocyanins_intensity', 'hash_table', 'yij_τi', 'right_hand', 'significance_level', 'acceptance_probability', 'probability_distributions', 'group_clause', 'practice_questions', 'database_objects', 'byte_byte', 'new_webauthn', 'working_directory', 'test_observation', 'modelling_binary', 'node_node', 'ename_state', 'descent_absolute', 'prox_operator', 'emp_eno_ename', 'tell_want', 'real_world', 'large_scale', 'ai_systems', 'convex_subset_interior_dom', 'classification_accuracy', 'engineer_programmer', 'systematic_sampling', 'number_successes', 'computer_cheese', 'manager_manager_engineer', 'google_analytics', 'prior_posterior', 'quick_sort', 'client_server', 'cqlsh_demo', 'cluster_sampling', 'supported_nserc', 'case_sensitive', 'residuals_min', 'previous_slide', 'working_directory_staging_area', 'jags_stan', 'problem_minimize', 'constant_variance', 'result_theorem', 'current_state', 'li_second', 'mgr_emp_emp', 'proposal_distribution', 'web_scraping', 'lag_lag', 'initial_state', 'learning_goals', 'posterior_variance', 'beta_binomial_model', 'std_err', 'system_ax', 'text_forecast', 'strictly_prohibited', 'nested_query', 'home_insert_layout_formulas', 'quadratic_discriminant_analysis', 'looks_like', 'subgradient_methods_suppose_convex', 'fi_ai', 'need_know', 'posterior_exchangeability', 'cross_validation', 'current_iterate', 'problem_simplify', 'unsupervised_methods', 'browser_usage', 'taken_seriously', 'alice_bob', 'exceptions_exceptions', 'principle_optimality', 'nosql_databases', 'cars_app', 'mahalanobis_distance', 'width_width_height', 'ix_ix', 'acceptance_probability_diagnostics'}\n"
     ]
    }
   ],
   "source": [
    "print(f\"Number of ngrams: {len(trigrams)}\")\n",
    "unique_trigrams = set(trigrams)\n",
    "print(f\"Number of unique ngrams: {len(unique_trigrams)}\")\n",
    "print(unique_trigrams)"
   ]
  },
  {
   "cell_type": "markdown",
   "metadata": {},
   "source": [
    "These are bad, just use bigrams"
   ]
  },
  {
   "cell_type": "code",
   "execution_count": 205,
   "metadata": {},
   "outputs": [],
   "source": [
    "def lemmatize(texts, allowed_postags=['NOUN', 'ADJ', 'VERB', 'ADV']):\n",
    "    tokens = []\n",
    "    for sent in texts:\n",
    "        doc = nlp(\" \".join(sent)) \n",
    "        sent_tokens = []\n",
    "        for token in doc: \n",
    "            if \"_\" in token.text:\n",
    "                sent_tokens.append(token.text)\n",
    "            else:\n",
    "                if token.pos_ in allowed_postags:\n",
    "                    sent_tokens.append(token.lemma_)\n",
    "                    \n",
    "        sent_tokens = [token.replace(\"datum\", \"data\") for token in sent_tokens]\n",
    "        tokens.append(sent_tokens)\n",
    "\n",
    "    return tokens"
   ]
  },
  {
   "cell_type": "code",
   "execution_count": 206,
   "metadata": {},
   "outputs": [],
   "source": [
    "data_lemmatized = lemmatize(data_words_bigrams)"
   ]
  },
  {
   "cell_type": "code",
   "execution_count": 207,
   "metadata": {},
   "outputs": [
    {
     "name": "stdout",
     "output_type": "stream",
     "text": [
      "162\n",
      "['learn', 'explain', 'important', 'understand', 'use', 'correct', 'terminology', 'define', 'computer', 'software', 'memory', 'data', 'memory', 'size', 'data', 'size', 'cloud', 'explain', 'big', 'data', 'program', 'create', 'data', 'analyst', 'understand', 'different', 'way', 'represent', 'data', 'critical', 'necessary', 'transform', 'data', 'format', 'excel', 'analysis', 'ubco_master', 'data', 'science', 'data']\n"
     ]
    }
   ],
   "source": [
    "print(len(data_lemmatized))\n",
    "print(data_lemmatized[0][:20] + data_lemmatized[0][-20:])"
   ]
  },
  {
   "cell_type": "code",
   "execution_count": 208,
   "metadata": {},
   "outputs": [
    {
     "name": "stdout",
     "output_type": "stream",
     "text": [
      "Total number of words in the cleaned corpus: 151017\n"
     ]
    }
   ],
   "source": [
    "sum = 0\n",
    "for doc in data_lemmatized:\n",
    "    sum += len(doc)\n",
    "\n",
    "print(f\"Total number of words in the cleaned corpus: {sum}\")"
   ]
  },
  {
   "cell_type": "markdown",
   "metadata": {},
   "source": [
    "Confirming that all the bigrams from earlier were retained"
   ]
  },
  {
   "cell_type": "code",
   "execution_count": 209,
   "metadata": {},
   "outputs": [],
   "source": [
    "bigrams = []\n",
    "\n",
    "for data_lemmatized_doc in data_lemmatized:    \n",
    "    for word in data_lemmatized_doc:\n",
    "        if \"_\" in word:\n",
    "            bigrams.append(word)"
   ]
  },
  {
   "cell_type": "code",
   "execution_count": 210,
   "metadata": {},
   "outputs": [
    {
     "name": "stdout",
     "output_type": "stream",
     "text": [
      "Number of ngrams: 11118\n",
      "Number of unique ngrams: 528\n",
      "{'categor_product', 'styles_cells', 'employee_eno', 'er_relational', 'misclassification_rate', 'gradient_descent', 'collaboration_githubremote', 'styles_format', 'read_write', 'binary_tree', 'markov_chains', 'pip_install', 'bi_ai', 'ename_emp', 'social_media', 'prior_parameters', 'computing_environments', 'main_branch', 'numpy_array', 'projection_operators', 'db_develop', 'nonempty_optimal', 'experimental_design', 'hidden_states', 'primal_feasibility', 'dynamic_programming', 'xml_document', 'eno_pno', 'method_alternating', 'residual_ss', 'multinomial_logistic', 'rr_lasso', 'credit_card', 'circle_radius', 'converges_point', 'garner_hbr', 'high_level', 'title_salary', 'cost_revenue', 'analyst_analyst', 'convolutional_neural', 'motivating_review', 'linked_lists', 'paste_format', 'summary_statistics', 'non_negative', 'performance_indices', 'plot_load', 'negative_binomial', 'relational_mapping', 'likelihood_estimation', 'standard_deviations', 'step_convert', 'insert_layout', 'high_leverage', 'education_income', 'sets_dealing', 'sum_squares', 'result_posterior', 'covariance_matrix', 'recurrent_neural', 'hello_world', 'markup_language', 'wage_genes', 'nearest_neighbors', 'dom_set', 'error_rate', 'convex_nonsmooth', 'unit_testing', 'united_states', 'apache_spark', 'dual_feasibility', 'margin_classifier', 'coefficients_estimate', 'good_projected', 'cigarette_butts', 'random_variable', 'model_specifying', 'environments_step', 'fold_cv', 'cells_editing', 'specifying_beta', 'markov_chain', 'step_examples', 'step_stan', 'data_rr', 'degrees_freedom', 'highly_correlated', 'entity_type', 'alter_table', 'pno_pname', 'sql_queries', 'training_observations', 'poisson_process', 'chains_iter', 'random_walk', 'outer_join', 'output_gate', 'sam_sam', 'discriminant_analysis', 'relational_databases', 'git_clone', 'pull_request', 'suppose_convex', 'map_reduce', 'missing_values', 'def_def', 'plain_text', 'best_subset', 'local_minimizer', 'coin_toss', 'activation_functions', 'eigenface_eigenface', 'linear_models', 'likelihood_posterior', 'clipboard_font', 'binary_search', 'computer_science', 'rows_columns', 'exponential_random', 'data_carts', 'ui_non', 'linked_list', 'web_browser', 'shortest_path', 'maximize_subject', 'excel_home', 'standard_error', 'normal_regression', 'minimizers_nonempty', 'ai_case', 'mouse_movement', 'width_height', 'insertion_sort', 'guide_better', 'complementary_slackness', 'vs_unsupervised', 'ai_bi', 'conjugate_prior', 'deep_learning', 'interactive_visualization', 'experimental_units', 'home_insert', 'staging_area', 'modules_packages', 'unbiased_estimator', 'beta_prior', 'characters_string', 'multiplicative_congruential', 'transformations_actions', 'learning_algorithms', 'sets_remotest', 'input_output', 'rendered_output', 'anova_table', 'estimate_std', 'interior_dom', 'mcmc_monte', 'internal_state', 'minimize_subject', 'business_writing', 'dname_mgreno', 'today_class', 'stochastic_gradient', 'decision_trees', 'prior_coin', 'spark_streaming', 'examples_linear', 'activation_function', 'squared_statistic', 'chart_xcol', 'regression_model', 'old_faithful', 'information_coding', 'toss_posterior', 'reasonable_steplengths', 'mixture_models', 'transition_matrix', 'test_statistic', 'optimization_problem', 'operating_system', 'layout_formulas', 'parametric_methods', 'pname_budget', 'tuning_parameter', 'subgradient_method', 'ip_address', 'case_ai', 'link_function', 'git_commit', 'programming_languages', 'subset_selection', 'state_title', 'et_al', 'confidence_interval', 'method_generates', 'cad_cam', 'lower_upper', 'prior_diagnostics', 'naive_bayes', 'standard_deviation', 'time_step', 'maximum_likelihood', 'mlk_forest', 'primary_key', 'descent_directions', 'forest_mlk', 'table_delete', 'eno_ename', 'distance_measures', 'mean_sd', 'resp_hours', 'select_ename', 'density_function', 'simplex_method', 'altair_alt', 'multiple_choice', 'brief_history', 'dept_dno', 'vector_classifier', 'ubco_master', 'linear_combination', 'document_classification', 'mean_squared', 'conditional_formatting', 'ubgi_uc', 'git_add', 'dno_emp', 'tired_solving', 'jupyter_notebook', 'chain_information', 'profiling_cont', 'stepwise_selection', 'std_error', 'income_debt', 'california_new', 'projection_operator', 'lazy_evaluation', 'log_likelihood', 'objective_function', 'lower_case', 'road_design', 'numpy_arrays', 'yes_yes', 'convex_analysis', 'random_forests', 'effective_sample', 'stationary_point', 'worst_case', 'low_high', 'hidden_markov', 'semicontinuous_nonempty', 'target_population', 'test_screening', 'exchangeability_heads', 'css_grid', 'likelihood_prior', 'supereno_dno', 'high_dose', 'html_rendered', 'maximizing_likelihood', 'remote_repository', 'tone_language', 'association_rules', 'linear_discriminant', 'price_cost', 'feasibility_problem', 'box_testing', 'rows_returned', 'mod_mod', 'binomial_computing', 'private_key', 'git_checkout', 'git_push', 'margin_hyperplane', 'metropolis_algorithm', 'stan_step', 'hidden_layer', 'projected_subgradient', 'metropolis_hastings', 'foreign_keys', 'parameters_plotting', 'learning_rate', 'emp_join', 'max_ai', 'sign_share', 'neural_networks', 'optimal_solution', 'support_vector', 'probability_density', 'proportional_allocation', 'col_col', 'developer_team', 'uniform_distribution', 'random_variables', 'optimal_value', 'min_max', 'joint_density', 'data_rf', 'markdown_html', 'residual_standard', 'pandas_series', 'python_package', 'expected_value', 'mean_variance', 'remotest_set', 'neural_network', 'poisson_processes', 'stan_examples', 'prior_beta', 'var_var', 'ball_total', 'google_maps', 'emp_emp', 'php_php', 'chosen_randomly', 'format_clipboard', 'newton_method', 'pno_resp', 'heads_likelihood', 'generates_sequence', 'numpy_np', 'multilayer_neural', 'block_designs', 'dependent_variable', 'open_source', 'subset_interior', 'assessing_models', 'prediction_diagnostics', 'constant_proportionality', 'closed_convex', 'def_compute', 'version_control', 'sort_filter', 'fermat_rule', 'ball_chocolate', 'personal_information', 'non_null', 'unnormalized_posterior', 'chocolate_ball', 'fully_connected', 'object_oriented', 'poisson_distribution', 'sales_excel', 'decision_boundary', 'informative_prior', 'hypothesis_testing', 'error_terms', 'number_styles', 'indexing_slicing', 'linear_regression', 'randomized_block', 'maximal_margin', 'pandas_dataframes', 'predictive_modelling', 'parameter_estimates', 'emp_dept', 'font_alignment', 'intercept_slope', 'brute_force', 'hidden_state', 'memory_cell', 'factor_levels', 'normally_distributed', 'access_control', 'necessarily_differentiable', 'review_view', 'foreign_key', 'machine_learning', 'budget_dno', 'unsupervised_learning', 'multiple_linear', 'dataframes_cont', 'user_defined', 'cell_styles', 'beta_binomial', 'data_nmf', 'binomial_model', 'monte_carlo', 'lower_semicontinuous', 'referential_integrity', 'makes_sense', 'simple_linear', 'comparing_treatments', 'moving_linearity', 'visual_basic', 'command_line', 'model_coding', 'bayesian_inference', 'academic_dishonesty', 'theorem_assume', 'likelihood_contributions', 'convolutional_layers', 'left_right', 'radius_def', 'widget_required', 'response_variable', 'observational_studies', 'sql_server', 'fitted_model', 'minibatch_stochastic', 'join_proj', 'logistic_regression', 'moore_law', 'smooth_fi', 'xml_schema', 'real_numbers', 'lake_forest', 'emp_salary', 'statistical_learning', 'decision_boundaries', 'programming_language', 'heading_heading', 'prior_belief', 'signif_codes', 'aggregate_functions', 'better_business', 'sum_rule', 'diagnostics_markov', 'confidence_intervals', 'select_eno', 'null_hypothesis', 'starting_point', 'convex_subset', 'carlo_metropolis', 'dno_dname', 'random_sampling', 'stratified_sampling', 'bayes_classifier', 'ename_title', 'recall_maximum', 'global_minimizer', 'convex_feasibility', 'mac_address', 'hash_table', 'manager_manager', 'mary_lake', 'public_key', 'acceptance_probability', 'black_box', 'stationary_distribution', 'probability_distributions', 'web_server', 'target_speed', 'alternating_projections', 'relational_algebra', 'mac_os', 'product_month', 'working_directory', 'prior_specification', 'git_branch', 'forest_mary', 'test_observation', 'generalized_linear', 'bias_variance', 'modelling_binary', 'nonempty_closed', 'sample_size', 'ename_state', 'predictor_space', 'circle_circle', 'normalizing_constant', 'prox_operator', 'professor_computer', 'real_world', 'month_volume', 'functional_form', 'subgradient_descent', 'proximal_gradient', 'normal_normal', 'family_gaussian', 'google_analytics', 'prior_posterior', 'non_informative', 'replace_missing', 'feature_space', 'relative_path', 'bayes_theorem', 'size_prob', 'look_like', 'client_server', 'subgradient_methods', 'cluster_sampling', 'pseudorandom_numbers', 'supervised_learning', 'previous_slide', 'problem_minimize', 'non_parametric', 'stochastic_vs', 'max_formula', 'nan_nan', 'conv_pad', 'integrity_constraint', 'lag_lag', 'push_origin', 'width_width', 'colombie_britannique', 'set_minimizers', 'stochastic_projected', 'repo_main', 'amdahl_law', 'hierarchical_indexing', 'posterior_variance', 'burn_mcmc', 'pandas_pd', 'xml_version', 'semi_supervised', 'uniform_random', 'looks_like', 'posterior_exchangeability', 'revenue_chocolate', 'cross_validation', 'time_series', 'averages_medians', 'basic_subgradient', 'command_prompt', 'trace_plots', 'current_iterate', 'convex_lower', 'dash_html', 'main_main', 'feature_map', 'tell_sign', 'database_design', 'principle_optimality', 'volume_price', 'alignment_number', 'separating_hyperplane'}\n"
     ]
    }
   ],
   "source": [
    "print(f\"Number of ngrams: {len(bigrams)}\")\n",
    "unique_bigrams = set(bigrams)\n",
    "print(f\"Number of unique ngrams: {len(unique_bigrams)}\")\n",
    "print(unique_bigrams)"
   ]
  }
 ],
 "metadata": {
  "kernelspec": {
   "display_name": "dir-st",
   "language": "python",
   "name": "python3"
  },
  "language_info": {
   "codemirror_mode": {
    "name": "ipython",
    "version": 3
   },
   "file_extension": ".py",
   "mimetype": "text/x-python",
   "name": "python",
   "nbconvert_exporter": "python",
   "pygments_lexer": "ipython3",
   "version": "3.10.14"
  }
 },
 "nbformat": 4,
 "nbformat_minor": 2
}
